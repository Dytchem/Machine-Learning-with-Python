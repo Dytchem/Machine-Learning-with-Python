{
 "cells": [
  {
   "cell_type": "code",
   "execution_count": null,
   "id": "f1dc44b4-26bd-4d85-a636-71500d65490d",
   "metadata": {},
   "outputs": [],
   "source": [
    "!pip install mitmproxy"
   ]
  },
  {
   "cell_type": "code",
   "execution_count": null,
   "id": "892846dd-1167-4a11-9467-25821fa95c08",
   "metadata": {},
   "outputs": [],
   "source": [
    "!mitmweb"
   ]
  },
  {
   "cell_type": "code",
   "execution_count": null,
   "id": "24fca337-10cc-4b38-941e-be953662d1e4",
   "metadata": {},
   "outputs": [],
   "source": [
    "!mitmdump -s local.py"
   ]
  },
  {
   "cell_type": "code",
   "execution_count": 16,
   "id": "a704ba7f-8dfd-4a65-b0ad-88bd32e81dde",
   "metadata": {},
   "outputs": [
    {
     "name": "stdout",
     "output_type": "stream",
     "text": [
      "^C\n"
     ]
    }
   ],
   "source": [
    "!mitmdump -s getAAP.py"
   ]
  }
 ],
 "metadata": {
  "kernelspec": {
   "display_name": "Python 3 (ipykernel)",
   "language": "python",
   "name": "python3"
  },
  "language_info": {
   "codemirror_mode": {
    "name": "ipython",
    "version": 3
   },
   "file_extension": ".py",
   "mimetype": "text/x-python",
   "name": "python",
   "nbconvert_exporter": "python",
   "pygments_lexer": "ipython3",
   "version": "3.11.9"
  }
 },
 "nbformat": 4,
 "nbformat_minor": 5
}
