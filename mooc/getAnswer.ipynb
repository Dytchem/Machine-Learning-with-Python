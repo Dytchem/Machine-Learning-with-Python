{
 "cells": [
  {
   "cell_type": "code",
   "execution_count": 1,
   "id": "78919192-087d-483d-8d3c-d2bf1bf008e1",
   "metadata": {},
   "outputs": [],
   "source": [
    "import json\n",
    "\n",
    "import requests"
   ]
  },
  {
   "cell_type": "code",
   "execution_count": 2,
   "id": "b0dfff30-feb9-4c40-ab95-a60339a95075",
   "metadata": {},
   "outputs": [],
   "source": [
    "url = \"http://www.icourse163.org/mob/course/paperDetail/v1\"\n",
    "headers = {\"Content-Type\": \"application/x-www-form-urlencoded; charset=UTF-8\"}\n",
    "aId = 3069228664\n",
    "data = (\n",
    "    \"mob-token=0f09b2b7630c129548d74dddd9eb97619a7891423fd6b617a0b8bde4b64c45ae398b3d63cb5fd52eef52676df13af54c76a799785561dc0ef8c10c98d0192f7529052a64e3eb0e2f6fdddaee44a6ed1e3fe82d8881bd18d30e2ebd9980e23f4b0d7ef1ee30366d043e17db84286433ce431fa5380bde4a7f17bdd49a3580fc84bdf8e751bb17227e812f9f3526a4c2d0a44713ec5840b51a00087d8e176e19a38676b27e0d374f2f0db184284eeb568ef068144cfcbaf5b449620a83b20dcbf5&testId=1242838683&isExercise=false&aId=\"\n",
    "    + str(aId)\n",
    "    + \"&withStdAnswerAndAnalyse=true&\"\n",
    ")"
   ]
  },
  {
   "cell_type": "code",
   "execution_count": 3,
   "id": "92f3304e-ece0-4a87-9e9d-ed9c952ab729",
   "metadata": {},
   "outputs": [],
   "source": [
    "r = requests.post(url, headers=headers, data=data)\n",
    "j = json.loads(r.text)"
   ]
  },
  {
   "cell_type": "code",
   "execution_count": 4,
   "id": "e3db9188-385c-48da-9921-077454f46b39",
   "metadata": {},
   "outputs": [],
   "source": [
    "q = j[\"results\"][\"mocPaperDto\"][\"objectiveQList\"]"
   ]
  },
  {
   "cell_type": "code",
   "execution_count": 13,
   "id": "48aa4725-6ed3-4999-8a30-2367901d2443",
   "metadata": {},
   "outputs": [
    {
     "name": "stdout",
     "output_type": "stream",
     "text": [
      "1 :\t _ _ C _ \n",
      "2 :\t _ _ C _ \n",
      "3 :\t _ _ C _ \n",
      "4 :\t _ B _ _ \n",
      "5 :\t _ _ C _ \n",
      "6 :\t _ _ C _ \n",
      "7 :\t _ _ _ D \n",
      "8 :\t _ _ C _ \n",
      "9 :\t A _ _ _ \n",
      "10 :\t _ B _ _ \n",
      "11 :\t _ _ C _ \n",
      "12 :\t _ _ _ D \n",
      "13 :\t _ _ _ D \n",
      "14 :\t A _ _ _ \n",
      "15 :\t A B C D \n",
      "16 :\t _ B C D \n",
      "17 :\t A B C D \n",
      "18 :\t A B C D \n",
      "19 :\t A B C _ \n",
      "20 :\t A B C D \n",
      "21 :\t A B C D \n",
      "22 :\t A B C D \n",
      "23 :\t A B C D \n",
      "24 :\t A B C D \n",
      "25 :\t A _ C D \n",
      "26 :\t A B C D \n",
      "27 :\t A B C D \n",
      "28 :\t A B C D \n"
     ]
    }
   ],
   "source": [
    "t = 0\n",
    "for i in q:\n",
    "    t += 1\n",
    "    L = []\n",
    "    for j, k in enumerate(i[\"optionDtos\"]):\n",
    "        if k[\"answer\"]:\n",
    "            L.append(chr(ord(\"A\") + j))\n",
    "        else:\n",
    "            L.append(\"_\")\n",
    "    print(t, \":\\t\", end=\" \")\n",
    "    for j in L:\n",
    "        print(j, end=\" \")\n",
    "    print()"
   ]
  },
  {
   "cell_type": "code",
   "execution_count": null,
   "id": "6e85800c-bdcb-4ccc-9c4e-88a5082fd63f",
   "metadata": {},
   "outputs": [],
   "source": []
  },
  {
   "cell_type": "code",
   "execution_count": null,
   "id": "8469d2c8-3b4c-4ae3-9163-e1640b5e52f6",
   "metadata": {},
   "outputs": [],
   "source": []
  }
 ],
 "metadata": {
  "kernelspec": {
   "display_name": "Python 3 (ipykernel)",
   "language": "python",
   "name": "python3"
  },
  "language_info": {
   "codemirror_mode": {
    "name": "ipython",
    "version": 3
   },
   "file_extension": ".py",
   "mimetype": "text/x-python",
   "name": "python",
   "nbconvert_exporter": "python",
   "pygments_lexer": "ipython3",
   "version": "3.11.9"
  }
 },
 "nbformat": 4,
 "nbformat_minor": 5
}
