{
 "cells": [
  {
   "cell_type": "code",
   "execution_count": 3,
   "id": "2dee47d3-ecf3-46ab-bc36-1b38177d8f6e",
   "metadata": {},
   "outputs": [],
   "source": [
    "headers = \"\"\"\n",
    "Host: jwc.xjtu.edu.cn\n",
    "User-Agent: Mozilla/5.0 (Windows NT 10.0; Win64; x64; rv:124.0) Gecko/20100101 Firefox/124.0\n",
    "Accept: text/html,application/xhtml+xml,application/xml;q=0.9,image/avif,image/webp,*/*;q=0.8\n",
    "Accept-Language: zh-CN\n",
    "Accept-Encoding: gzip, deflate, br\n",
    "Connection: keep-alive\n",
    "Cookie: _ga=GA1.3.1956469236.1693923250; JSESSIONID=2FD9EC49EB3B9BE4EF26B758AC164DD8\n",
    "Upgrade-Insecure-Requests: 1\n",
    "Sec-Fetch-Dest: document\n",
    "Sec-Fetch-Mode: navigate\n",
    "Sec-Fetch-Site: cross-site\n",
    "\"\"\""
   ]
  },
  {
   "cell_type": "code",
   "execution_count": 13,
   "id": "3c0fc828-8679-4ab1-869c-fe8a9c4605db",
   "metadata": {},
   "outputs": [],
   "source": [
    "def text2list(s):\n",
    "    re = {}\n",
    "    for i in s.strip().split(\"\\n\"):\n",
    "        j = i.split(\":\")\n",
    "        re[j[0].strip()] = j[1].strip()\n",
    "    return re"
   ]
  },
  {
   "cell_type": "code",
   "execution_count": 15,
   "id": "7bf80f8e-9f0b-4839-bf77-ab30a905b4df",
   "metadata": {},
   "outputs": [
    {
     "data": {
      "text/plain": [
       "{'Host': 'jwc.xjtu.edu.cn',\n",
       " 'User-Agent': 'Mozilla/5.0 (Windows NT 10.0; Win64; x64; rv',\n",
       " 'Accept': 'text/html,application/xhtml+xml,application/xml;q=0.9,image/avif,image/webp,*/*;q=0.8',\n",
       " 'Accept-Language': 'zh-CN',\n",
       " 'Accept-Encoding': 'gzip, deflate, br',\n",
       " 'Connection': 'keep-alive',\n",
       " 'Cookie': '_ga=GA1.3.1956469236.1693923250; JSESSIONID=2FD9EC49EB3B9BE4EF26B758AC164DD8',\n",
       " 'Upgrade-Insecure-Requests': '1',\n",
       " 'Sec-Fetch-Dest': 'document',\n",
       " 'Sec-Fetch-Mode': 'navigate',\n",
       " 'Sec-Fetch-Site': 'cross-site'}"
      ]
     },
     "execution_count": 15,
     "metadata": {},
     "output_type": "execute_result"
    }
   ],
   "source": [
    "text2list(headers)"
   ]
  }
 ],
 "metadata": {
  "kernelspec": {
   "display_name": "Python 3 (ipykernel)",
   "language": "python",
   "name": "python3"
  },
  "language_info": {
   "codemirror_mode": {
    "name": "ipython",
    "version": 3
   },
   "file_extension": ".py",
   "mimetype": "text/x-python",
   "name": "python",
   "nbconvert_exporter": "python",
   "pygments_lexer": "ipython3",
   "version": "3.11.9"
  }
 },
 "nbformat": 4,
 "nbformat_minor": 5
}
