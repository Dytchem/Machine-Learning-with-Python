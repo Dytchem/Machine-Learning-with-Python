{
 "cells": [
  {
   "cell_type": "code",
   "execution_count": null,
   "id": "77722e5f-6a3a-48c3-97de-7bf1fb758ab0",
   "metadata": {},
   "outputs": [],
   "source": [
    "from jwapp import *"
   ]
  },
  {
   "cell_type": "code",
   "execution_count": null,
   "id": "547014d3-2676-4721-bc81-2fe7f54f25d3",
   "metadata": {},
   "outputs": [],
   "source": [
    "s=Student(2224213619)"
   ]
  },
  {
   "cell_type": "code",
   "execution_count": null,
   "id": "d25e5d11-0785-4dfa-9eec-7ba34b570775",
   "metadata": {},
   "outputs": [],
   "source": [
    "a=Address(s)"
   ]
  },
  {
   "cell_type": "code",
   "execution_count": null,
   "id": "bb72d23f-7790-4a4f-bde5-77199686c618",
   "metadata": {},
   "outputs": [],
   "source": [
    "l=a.reset().goto(\"教学班\",\"算法分析\").list_id()"
   ]
  },
  {
   "cell_type": "code",
   "execution_count": null,
   "id": "e06300c2-2ba3-4ebc-a26b-0af6d0b26b3f",
   "metadata": {},
   "outputs": [],
   "source": [
    "sl=StudentList(l)"
   ]
  },
  {
   "cell_type": "code",
   "execution_count": null,
   "id": "83febe55-56dd-4a2c-bd47-069e62c3997c",
   "metadata": {},
   "outputs": [],
   "source": [
    "t=sl.scores_detail(\"算法分析\")"
   ]
  },
  {
   "cell_type": "code",
   "execution_count": null,
   "id": "d8b49cdb-11d5-4f37-9bc7-f35c5f5a6c99",
   "metadata": {},
   "outputs": [],
   "source": [
    "t"
   ]
  },
  {
   "cell_type": "code",
   "execution_count": null,
   "id": "8789f292-179c-4030-841f-ed319b7cf128",
   "metadata": {},
   "outputs": [],
   "source": [
    "t=t.sort_values(\"score\",ascending=False)"
   ]
  },
  {
   "cell_type": "code",
   "execution_count": null,
   "id": "a4c27865-656a-484d-95d0-0c950f4b923f",
   "metadata": {},
   "outputs": [],
   "source": [
    "t.to_csv(\"a.csv\")"
   ]
  }
 ],
 "metadata": {
  "kernelspec": {
   "display_name": "Python 3 (ipykernel)",
   "language": "python",
   "name": "python3"
  },
  "language_info": {
   "codemirror_mode": {
    "name": "ipython",
    "version": 3
   },
   "file_extension": ".py",
   "mimetype": "text/x-python",
   "name": "python",
   "nbconvert_exporter": "python",
   "pygments_lexer": "ipython3",
   "version": "3.11.9"
  }
 },
 "nbformat": 4,
 "nbformat_minor": 5
}
