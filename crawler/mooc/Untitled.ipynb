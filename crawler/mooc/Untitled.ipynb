{
 "cells": [
  {
   "cell_type": "code",
   "execution_count": 13,
   "id": "60830ae8-d071-42ef-9540-b7f8e80c9276",
   "metadata": {},
   "outputs": [
    {
     "name": "stdout",
     "output_type": "stream",
     "text": [
      "1 :\t _ _ C _ \n",
      "2 :\t _ B _ _ \n",
      "3 :\t _ B _ _ \n",
      "4 :\t _ _ C _ \n",
      "5 :\t _ B _ _ \n",
      "6 :\t A _ \n",
      "7 :\t _ B \n",
      "8 :\t A _ \n",
      "9 :\t A _ \n",
      "10 :\t _ B \n"
     ]
    }
   ],
   "source": [
    "from getAnswer import *\n",
    "getAnswer(3294188836)"
   ]
  },
  {
   "cell_type": "code",
   "execution_count": null,
   "id": "86354db5-e2a7-455a-b4b9-c10f8763688d",
   "metadata": {},
   "outputs": [],
   "source": []
  }
 ],
 "metadata": {
  "kernelspec": {
   "display_name": "Python [conda env:base] *",
   "language": "python",
   "name": "conda-base-py"
  },
  "language_info": {
   "codemirror_mode": {
    "name": "ipython",
    "version": 3
   },
   "file_extension": ".py",
   "mimetype": "text/x-python",
   "name": "python",
   "nbconvert_exporter": "python",
   "pygments_lexer": "ipython3",
   "version": "3.11.9"
  }
 },
 "nbformat": 4,
 "nbformat_minor": 5
}
