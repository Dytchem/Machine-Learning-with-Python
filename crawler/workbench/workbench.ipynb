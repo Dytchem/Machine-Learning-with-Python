{
 "cells": [
  {
   "cell_type": "code",
   "execution_count": 10,
   "id": "99169ac5-df7d-42e2-9d7d-8ddcb02e2c28",
   "metadata": {},
   "outputs": [],
   "source": [
    "import json\n",
    "import urllib.parse\n",
    "\n",
    "import pandas as pd\n",
    "import requests"
   ]
  },
  {
   "cell_type": "code",
   "execution_count": 2,
   "id": "c4fb33ee-3732-4240-928a-1b0a38b3194f",
   "metadata": {},
   "outputs": [],
   "source": [
    "r = requests.post(\n",
    "    \"https://org.xjtu.edu.cn/workbench//taip/avoidLogin/getAAP\",\n",
    "    headers={\n",
    "        \"X-Platform\": \"pc\",\n",
    "        \"Accept\": \"application/json;charset=UTF-8\",\n",
    "        \"Content-Type\": \"application/json\",\n",
    "    },\n",
    "    data='{\"phone\":\"18875012758\",\"token\":\"0bf014a8-e73f-46f0-97c9-8de62ed5f27a\",\"toonType\":\"150\",\"userId\":\"891121\"}',\n",
    ")\n",
    "j = json.loads(r.text)"
   ]
  },
  {
   "cell_type": "code",
   "execution_count": 3,
   "id": "7371cd0c-f64b-415f-bfa5-8dd68c151fd3",
   "metadata": {},
   "outputs": [],
   "source": [
    "data = pd.DataFrame(\n",
    "    columns=[\"appId\", \"appUrl\", \"name\", \"desc\", \"appCategory\", \"icon\", \"sort\"]\n",
    ")"
   ]
  },
  {
   "cell_type": "code",
   "execution_count": 4,
   "id": "14f0d06a-4c61-4733-b2b3-5ef94b6f0dd0",
   "metadata": {},
   "outputs": [],
   "source": [
    "for i in j[\"data\"][\"targetPath\"][\"tapp\"][0][\"preLoadApps\"]:\n",
    "    data.loc[len(data)] = i"
   ]
  },
  {
   "cell_type": "code",
   "execution_count": 11,
   "id": "c72e9ff1-7bc5-4277-be14-d792d0cc04ab",
   "metadata": {},
   "outputs": [],
   "source": [
    "for i in range(len(data)):\n",
    "    data.loc[i, \"appUrl\"] = urllib.parse.unquote(\n",
    "        data.loc[i, \"appUrl\"].split(\"&redirectUri=\")[1]\n",
    "    )"
   ]
  },
  {
   "cell_type": "code",
   "execution_count": 13,
   "id": "622e70df-2292-480c-ae2d-c9637c1c7273",
   "metadata": {},
   "outputs": [],
   "source": [
    "data.to_csv(\"data.csv\")"
   ]
  },
  {
   "cell_type": "code",
   "execution_count": 20,
   "id": "3b6a7e2d-2ad0-4715-ae76-e0e0913282c6",
   "metadata": {},
   "outputs": [
    {
     "name": "stdout",
     "output_type": "stream",
     "text": [
      "C:\\Users\\a\\Jupyter\\百度松果菁英班\\Machine_Learning_with_Python\\workbench\\data.csv\n"
     ]
    }
   ],
   "source": [
    "import os\n",
    "print(os.path.abspath(\"data.csv\"))"
   ]
  },
  {
   "cell_type": "code",
   "execution_count": 18,
   "id": "7fb1e0e2-5d4f-449b-ae5b-d3b4e1cc2cf8",
   "metadata": {},
   "outputs": [],
   "source": [
    "with open(\"a.txt\",\"w\") as f:\n",
    "    for i in s"
   ]
  }
 ],
 "metadata": {
  "kernelspec": {
   "display_name": "Python 3 (ipykernel)",
   "language": "python",
   "name": "python3"
  },
  "language_info": {
   "codemirror_mode": {
    "name": "ipython",
    "version": 3
   },
   "file_extension": ".py",
   "mimetype": "text/x-python",
   "name": "python",
   "nbconvert_exporter": "python",
   "pygments_lexer": "ipython3",
   "version": "3.11.9"
  }
 },
 "nbformat": 4,
 "nbformat_minor": 5
}
