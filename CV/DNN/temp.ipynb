{
 "cells": [
  {
   "cell_type": "code",
   "execution_count": 14,
   "id": "30ff41ee-beb9-482c-9662-9baccd79cae3",
   "metadata": {},
   "outputs": [],
   "source": [
    "import os\n",
    "from pprint import pprint\n",
    "import numpy as np\n",
    "import matplotlib.pyplot as plt\n",
    "import paddle"
   ]
  },
  {
   "cell_type": "code",
   "execution_count": 2,
   "id": "aea2524c-68ce-4ad9-b780-4da24ea5caab",
   "metadata": {},
   "outputs": [
    {
     "name": "stdout",
     "output_type": "stream",
     "text": [
      "['.ipynb_checkpoints',\n",
      " 'batches.meta',\n",
      " 'data_batch_1',\n",
      " 'data_batch_2',\n",
      " 'data_batch_3',\n",
      " 'data_batch_4',\n",
      " 'data_batch_5',\n",
      " 'readme.html',\n",
      " 'test_batch']\n"
     ]
    }
   ],
   "source": [
    "pprint(os.listdir(\"../data/cifar-10-batches-py\"))"
   ]
  },
  {
   "cell_type": "code",
   "execution_count": 20,
   "id": "ead0dfb0-8be4-4692-b1a4-39f8cd794dc4",
   "metadata": {},
   "outputs": [
    {
     "name": "stdout",
     "output_type": "stream",
     "text": [
      "dict_keys([b'batch_label', b'labels', b'data', b'filenames'])\n",
      "b'training batch 1 of 5'\n",
      "b'tipper_truck_s_001250.png'\n"
     ]
    },
    {
     "data": {
      "image/png": "[encoded data removed]",
      "text/plain": [
       "<Figure size 640x480 with 1 Axes>"
      ]
     },
     "metadata": {},
     "output_type": "display_data"
    }
   ],
   "source": [
    "def unpickle(file):\n",
    "    import pickle\n",
    "\n",
    "    with open(file, \"rb\") as fo:\n",
    "        dict = pickle.load(fo, encoding=\"bytes\")\n",
    "    return dict\n",
    "\n",
    "\n",
    "a = unpickle(\"../data/cifar-10-batches-py/data_batch_1\")\n",
    "pprint(a.keys())\n",
    "pprint(a[b'batch_label'])\n",
    "\n",
    "t = 2\n",
    "print(a[b\"filenames\"][t])\n",
    "image_data = a[b\"data\"][t]\n",
    "# 分离 RGB 通道\n",
    "red_channel = image_data[:1024].reshape((32, 32))\n",
    "green_channel = image_data[1024:2048].reshape((32, 32))\n",
    "blue_channel = image_data[2048:].reshape((32, 32))\n",
    "\n",
    "# 合并通道为一个 RGB 图像\n",
    "rgb_image = np.dstack((red_channel, green_channel, blue_channel))\n",
    "\n",
    "# 显示图像\n",
    "plt.imshow(rgb_image)\n",
    "plt.axis(\"off\")  # 关闭坐标轴\n",
    "plt.show()"
   ]
  },
  {
   "cell_type": "code",
   "execution_count": 10,
   "id": "474e8db4-fa77-4eba-8301-a536350a31fd",
   "metadata": {},
   "outputs": [
    {
     "name": "stdout",
     "output_type": "stream",
     "text": [
      "dict_keys([b'num_cases_per_batch', b'label_names', b'num_vis'])\n"
     ]
    }
   ],
   "source": [
    "b = unpickle(\"../data/cifar-10-batches-py/batches.meta\")\n",
    "pprint(b.keys())"
   ]
  },
  {
   "cell_type": "code",
   "execution_count": 11,
   "id": "904bd426-1ab0-4c2e-b24f-f3f2ed92bea2",
   "metadata": {},
   "outputs": [
    {
     "name": "stdout",
     "output_type": "stream",
     "text": [
      "[b'airplane',\n",
      " b'automobile',\n",
      " b'bird',\n",
      " b'cat',\n",
      " b'deer',\n",
      " b'dog',\n",
      " b'frog',\n",
      " b'horse',\n",
      " b'ship',\n",
      " b'truck']\n"
     ]
    }
   ],
   "source": [
    "pprint(b[b'label_names'])"
   ]
  },
  {
   "cell_type": "code",
   "execution_count": null,
   "id": "b8e6688f-976c-4353-aee2-bd401d58d6a1",
   "metadata": {},
   "outputs": [],
   "source": []
  },
  {
   "cell_type": "code",
   "execution_count": 10,
   "id": "b7ce71f9-1a71-4f59-98cf-08bf4dfc9e44",
   "metadata": {},
   "outputs": [],
   "source": [
    "a=np.array([[1,2],[3,4]])\n",
    "b=np.array([[5,6]])"
   ]
  },
  {
   "cell_type": "code",
   "execution_count": 4,
   "id": "58e70e40-48b5-4b70-9252-7e465780c59c",
   "metadata": {},
   "outputs": [],
   "source": [
    "a+=b"
   ]
  },
  {
   "cell_type": "code",
   "execution_count": 6,
   "id": "bfa32c44-73cb-4bb3-93f1-794c057d286f",
   "metadata": {},
   "outputs": [],
   "source": [
    "a[-1]=b"
   ]
  },
  {
   "cell_type": "code",
   "execution_count": 11,
   "id": "a499431c-01c0-4348-8c24-623df0d35c50",
   "metadata": {},
   "outputs": [
    {
     "data": {
      "text/plain": [
       "array([[1, 2],\n",
       "       [3, 4],\n",
       "       [5, 6]])"
      ]
     },
     "execution_count": 11,
     "metadata": {},
     "output_type": "execute_result"
    }
   ],
   "source": [
    "np.concatenate((a,b))"
   ]
  },
  {
   "cell_type": "code",
   "execution_count": null,
   "id": "13c09780-4b49-4669-b421-f36c0f140ced",
   "metadata": {},
   "outputs": [],
   "source": []
  },
  {
   "cell_type": "code",
   "execution_count": null,
   "id": "ff5a299b-1e56-4492-be2b-f9ffe4cdd8f4",
   "metadata": {},
   "outputs": [],
   "source": []
  },
  {
   "cell_type": "code",
   "execution_count": 12,
   "id": "822da4aa-3753-4578-993e-50f3e770a3c8",
   "metadata": {},
   "outputs": [
    {
     "data": {
      "text/plain": [
       "1"
      ]
     },
     "execution_count": 12,
     "metadata": {},
     "output_type": "execute_result"
    }
   ],
   "source": [
    "10%3"
   ]
  },
  {
   "cell_type": "code",
   "execution_count": 15,
   "id": "4132a11d-d7d2-4994-bc53-d31aa6f99f44",
   "metadata": {},
   "outputs": [],
   "source": [
    "x=paddle.Tensor(np.arange(10))"
   ]
  },
  {
   "cell_type": "code",
   "execution_count": 17,
   "id": "7344bfad-25e2-401b-8f3b-6804202ee9d4",
   "metadata": {},
   "outputs": [
    {
     "data": {
      "text/plain": [
       "Tensor(shape=[5, 2], dtype=int32, place=Place(cpu), stop_gradient=True,\n",
       "       [[0, 1],\n",
       "        [2, 3],\n",
       "        [4, 5],\n",
       "        [6, 7],\n",
       "        [8, 9]])"
      ]
     },
     "execution_count": 17,
     "metadata": {},
     "output_type": "execute_result"
    }
   ],
   "source": [
    "x.reshape((-1,2))"
   ]
  },
  {
   "cell_type": "code",
   "execution_count": 18,
   "id": "43285a65-96b9-418a-a776-6592d3330291",
   "metadata": {},
   "outputs": [
    {
     "data": {
      "text/plain": [
       "Tensor(shape=[10], dtype=int32, place=Place(cpu), stop_gradient=True,\n",
       "       [0, 1, 2, 3, 4, 5, 6, 7, 8, 9])"
      ]
     },
     "execution_count": 18,
     "metadata": {},
     "output_type": "execute_result"
    }
   ],
   "source": [
    "x"
   ]
  },
  {
   "cell_type": "code",
   "execution_count": 27,
   "id": "4b2e18e1-f722-4485-a080-8f1bdbc95c3a",
   "metadata": {},
   "outputs": [
    {
     "data": {
      "text/plain": [
       "Tensor(shape=[5, 2], dtype=int32, place=Place(cpu), stop_gradient=True,\n",
       "       [[0, 1],\n",
       "        [2, 3],\n",
       "        [4, 5],\n",
       "        [6, 7],\n",
       "        [8, 9]])"
      ]
     },
     "execution_count": 27,
     "metadata": {},
     "output_type": "execute_result"
    }
   ],
   "source": [
    "x=x.reshape((-1,2))\n",
    "x"
   ]
  },
  {
   "cell_type": "code",
   "execution_count": null,
   "id": "cc617d8a-3697-49b1-9a24-f753171e0f3d",
   "metadata": {},
   "outputs": [],
   "source": []
  },
  {
   "cell_type": "code",
   "execution_count": 30,
   "id": "ab77f999-b58b-4774-a136-583931977756",
   "metadata": {},
   "outputs": [
    {
     "ename": "ValueError",
     "evalue": "The start_axis should be a int, and in range [-rank(x), rank(x))",
     "output_type": "error",
     "traceback": [
      "\u001b[1;31m---------------------------------------------------------------------------\u001b[0m",
      "\u001b[1;31mValueError\u001b[0m                                Traceback (most recent call last)",
      "Cell \u001b[1;32mIn[30], line 1\u001b[0m\n\u001b[1;32m----> 1\u001b[0m \u001b[43mx\u001b[49m\u001b[38;5;241;43m.\u001b[39;49m\u001b[43mflatten\u001b[49m\u001b[43m(\u001b[49m\u001b[38;5;241;43m2\u001b[39;49m\u001b[43m)\u001b[49m\n",
      "File \u001b[1;32mD:\\anaconda3\\envs\\cp310\\lib\\site-packages\\paddle\\tensor\\manipulation.py:1720\u001b[0m, in \u001b[0;36mflatten\u001b[1;34m(x, start_axis, stop_axis, name)\u001b[0m\n\u001b[0;32m   1714\u001b[0m \u001b[38;5;28;01melse\u001b[39;00m:\n\u001b[0;32m   1715\u001b[0m     \u001b[38;5;28;01mif\u001b[39;00m (\n\u001b[0;32m   1716\u001b[0m         \u001b[38;5;129;01mnot\u001b[39;00m (\u001b[38;5;28misinstance\u001b[39m(start_axis, \u001b[38;5;28mint\u001b[39m))\n\u001b[0;32m   1717\u001b[0m         \u001b[38;5;129;01mor\u001b[39;00m (start_axis \u001b[38;5;241m>\u001b[39m x_dim \u001b[38;5;241m-\u001b[39m \u001b[38;5;241m1\u001b[39m)\n\u001b[0;32m   1718\u001b[0m         \u001b[38;5;129;01mor\u001b[39;00m start_axis \u001b[38;5;241m<\u001b[39m \u001b[38;5;241m-\u001b[39mx_dim\n\u001b[0;32m   1719\u001b[0m     ):\n\u001b[1;32m-> 1720\u001b[0m         \u001b[38;5;28;01mraise\u001b[39;00m \u001b[38;5;167;01mValueError\u001b[39;00m(\n\u001b[0;32m   1721\u001b[0m             \u001b[38;5;124m\"\u001b[39m\u001b[38;5;124mThe start_axis should be a int, and in range [-rank(x), rank(x))\u001b[39m\u001b[38;5;124m\"\u001b[39m\n\u001b[0;32m   1722\u001b[0m         )\n\u001b[0;32m   1723\u001b[0m     \u001b[38;5;28;01mif\u001b[39;00m (\n\u001b[0;32m   1724\u001b[0m         \u001b[38;5;129;01mnot\u001b[39;00m (\u001b[38;5;28misinstance\u001b[39m(stop_axis, \u001b[38;5;28mint\u001b[39m))\n\u001b[0;32m   1725\u001b[0m         \u001b[38;5;129;01mor\u001b[39;00m (stop_axis \u001b[38;5;241m>\u001b[39m x_dim \u001b[38;5;241m-\u001b[39m \u001b[38;5;241m1\u001b[39m)\n\u001b[0;32m   1726\u001b[0m         \u001b[38;5;129;01mor\u001b[39;00m stop_axis \u001b[38;5;241m<\u001b[39m \u001b[38;5;241m-\u001b[39mx_dim\n\u001b[0;32m   1727\u001b[0m     ):\n\u001b[0;32m   1728\u001b[0m         \u001b[38;5;28;01mraise\u001b[39;00m \u001b[38;5;167;01mValueError\u001b[39;00m(\n\u001b[0;32m   1729\u001b[0m             \u001b[38;5;124m\"\u001b[39m\u001b[38;5;124mThe stop_axis should be a int, and in range [-rank(x), rank(x))\u001b[39m\u001b[38;5;124m\"\u001b[39m\n\u001b[0;32m   1730\u001b[0m         )\n",
      "\u001b[1;31mValueError\u001b[0m: The start_axis should be a int, and in range [-rank(x), rank(x))"
     ]
    }
   ],
   "source": [
    "x.flatten(2)"
   ]
  }
 ],
 "metadata": {
  "kernelspec": {
   "display_name": "Python 3 (ipykernel)",
   "language": "python",
   "name": "python3"
  },
  "language_info": {
   "codemirror_mode": {
    "name": "ipython",
    "version": 3
   },
   "file_extension": ".py",
   "mimetype": "text/x-python",
   "name": "python",
   "nbconvert_exporter": "python",
   "pygments_lexer": "ipython3",
   "version": "3.10.12"
  }
 },
 "nbformat": 4,
 "nbformat_minor": 5
}
