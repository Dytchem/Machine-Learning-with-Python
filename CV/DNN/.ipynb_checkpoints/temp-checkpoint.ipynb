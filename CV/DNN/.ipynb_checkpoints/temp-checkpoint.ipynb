{
 "cells": [
  {
   "cell_type": "code",
   "execution_count": 1,
   "id": "30ff41ee-beb9-482c-9662-9baccd79cae3",
   "metadata": {},
   "outputs": [],
   "source": [
    "import os\n",
    "from pprint import pprint\n",
    "import numpy as np\n",
    "import matplotlib.pyplot as plt"
   ]
  },
  {
   "cell_type": "code",
   "execution_count": 2,
   "id": "aea2524c-68ce-4ad9-b780-4da24ea5caab",
   "metadata": {},
   "outputs": [
    {
     "name": "stdout",
     "output_type": "stream",
     "text": [
      "['.ipynb_checkpoints',\n",
      " 'batches.meta',\n",
      " 'data_batch_1',\n",
      " 'data_batch_2',\n",
      " 'data_batch_3',\n",
      " 'data_batch_4',\n",
      " 'data_batch_5',\n",
      " 'readme.html',\n",
      " 'test_batch']\n"
     ]
    }
   ],
   "source": [
    "pprint(os.listdir(\"../data/cifar-10-batches-py\"))"
   ]
  },
  {
   "cell_type": "code",
   "execution_count": 7,
   "id": "ead0dfb0-8be4-4692-b1a4-39f8cd794dc4",
   "metadata": {},
   "outputs": [
    {
     "name": "stdout",
     "output_type": "stream",
     "text": [
      "dict_keys([b'batch_label', b'labels', b'data', b'filenames'])\n",
      "b'training batch 1 of 5'\n",
      "b'tipper_truck_s_001250.png'\n"
     ]
    },
    {
     "data": {
      "image/png": "[encoded data removed]",
      "text/plain": [
       "<Figure size 640x480 with 1 Axes>"
      ]
     },
     "metadata": {},
     "output_type": "display_data"
    }
   ],
   "source": [
    "def unpickle(file):\n",
    "    import pickle\n",
    "\n",
    "    with open(file, \"rb\") as fo:\n",
    "        dict = pickle.load(fo, encoding=\"bytes\")\n",
    "    return dict\n",
    "\n",
    "\n",
    "a = unpickle(\"../data/cifar-10-batches-py/data_batch_1\")\n",
    "pprint(a.keys())\n",
    "pprint(a[b'batch_label'])\n",
    "\n",
    "t = 2\n",
    "print(a[b\"filenames\"][t])\n",
    "image_data = a[b\"data\"][t]\n",
    "# 分离 RGB 通道\n",
    "red_channel = image_data[:1024].reshape((32, 32))\n",
    "green_channel = image_data[1024:2048].reshape((32, 32))\n",
    "blue_channel = image_data[2048:].reshape((32, 32))\n",
    "\n",
    "# 合并通道为一个 RGB 图像\n",
    "rgb_image = np.dstack((red_channel, green_channel, blue_channel))\n",
    "\n",
    "# 显示图像\n",
    "plt.imshow(rgb_image)\n",
    "plt.axis(\"off\")  # 关闭坐标轴\n",
    "plt.show()"
   ]
  },
  {
   "cell_type": "code",
   "execution_count": null,
   "id": "904bd426-1ab0-4c2e-b24f-f3f2ed92bea2",
   "metadata": {},
   "outputs": [],
   "source": []
  },
  {
   "cell_type": "code",
   "execution_count": null,
   "id": "b8e6688f-976c-4353-aee2-bd401d58d6a1",
   "metadata": {},
   "outputs": [],
   "source": []
  },
  {
   "cell_type": "code",
   "execution_count": null,
   "id": "b7ce71f9-1a71-4f59-98cf-08bf4dfc9e44",
   "metadata": {},
   "outputs": [],
   "source": []
  },
  {
   "cell_type": "code",
   "execution_count": null,
   "id": "58e70e40-48b5-4b70-9252-7e465780c59c",
   "metadata": {},
   "outputs": [],
   "source": []
  }
 ],
 "metadata": {
  "kernelspec": {
   "display_name": "Python 3 (ipykernel)",
   "language": "python",
   "name": "python3"
  },
  "language_info": {
   "codemirror_mode": {
    "name": "ipython",
    "version": 3
   },
   "file_extension": ".py",
   "mimetype": "text/x-python",
   "name": "python",
   "nbconvert_exporter": "python",
   "pygments_lexer": "ipython3",
   "version": "3.10.12"
  }
 },
 "nbformat": 4,
 "nbformat_minor": 5
}
