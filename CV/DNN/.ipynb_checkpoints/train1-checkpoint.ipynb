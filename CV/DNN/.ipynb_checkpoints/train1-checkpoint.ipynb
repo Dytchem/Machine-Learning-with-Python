{
 "cells": [
  {
   "cell_type": "code",
   "execution_count": 1,
   "id": "8c998074-8278-42e6-89ec-df7f924ba110",
   "metadata": {},
   "outputs": [],
   "source": [
    "import os\n",
    "from pprint import pprint\n",
    "import numpy as np\n",
    "import matplotlib.pyplot as plt\n",
    "import paddle\n",
    "paddle.set_default_dtype(\"float64\")"
   ]
  },
  {
   "cell_type": "code",
   "execution_count": 2,
   "id": "e5619bae-1a6b-4945-9242-a3ab2cc9aefb",
   "metadata": {},
   "outputs": [],
   "source": [
    "def unpickle(file):\n",
    "    import pickle\n",
    "\n",
    "    with open(file, \"rb\") as fo:\n",
    "        dict = pickle.load(fo, encoding=\"bytes\")\n",
    "    return dict\n",
    "\n",
    "\n",
    "def getitem(dict, index):\n",
    "    label = a[b\"labels\"][index]\n",
    "    image_data = a[b\"data\"][index]\n",
    "    red_channel = image_data[:1024].reshape((32, 32))\n",
    "    green_channel = image_data[1024:2048].reshape((32, 32))\n",
    "    blue_channel = image_data[2048:].reshape((32, 32))\n",
    "    rgb_image = np.dstack((red_channel, green_channel, blue_channel))\n",
    "    return rgb_image, label\n",
    "\n",
    "\n",
    "label_names = unpickle(\"../data/cifar-10-batches-py/batches.meta\")[b\"label_names\"]"
   ]
  },
  {
   "cell_type": "code",
   "execution_count": 3,
   "id": "4a27b2f0-2200-4449-a19c-a9b1880f5ca5",
   "metadata": {},
   "outputs": [],
   "source": [
    "a = unpickle(\"../data/cifar-10-batches-py/data_batch_1\")"
   ]
  },
  {
   "cell_type": "code",
   "execution_count": 4,
   "id": "3d94175d-919c-4b0b-8edf-464a0e4cb85c",
   "metadata": {},
   "outputs": [
    {
     "data": {
      "image/png": "[encoded data removed]",
      "text/plain": [
       "<Figure size 640x480 with 1 Axes>"
      ]
     },
     "metadata": {},
     "output_type": "display_data"
    },
    {
     "name": "stdout",
     "output_type": "stream",
     "text": [
      "b'dog'\n"
     ]
    }
   ],
   "source": [
    "t = getitem(a, 5555)\n",
    "plt.imshow(t[0])\n",
    "plt.axis(\"off\")\n",
    "plt.show()\n",
    "print(label_names[t[1]])"
   ]
  },
  {
   "cell_type": "code",
   "execution_count": 5,
   "id": "b18b219e-46fc-4ef4-b8b2-729b850492f5",
   "metadata": {},
   "outputs": [],
   "source": [
    "class Reader(paddle.io.Dataset):\n",
    "    def __init__(self, path):\n",
    "        super().__init__()\n",
    "        data = unpickle(path)\n",
    "        self.x = data[b\"data\"]/255\n",
    "        self.y = data[b\"labels\"]\n",
    "    def __getitem__(self,index):\n",
    "        return self.x[index],self.y[index]\n",
    "    def __len__(self):\n",
    "        return len(self.y)"
   ]
  },
  {
   "cell_type": "code",
   "execution_count": null,
   "id": "a5fab731-51a7-4c6d-8e6a-94f90b55a416",
   "metadata": {},
   "outputs": [],
   "source": []
  },
  {
   "cell_type": "code",
   "execution_count": null,
   "id": "f24a3567-a3a5-41d4-a398-d3d4c67dc070",
   "metadata": {},
   "outputs": [],
   "source": []
  },
  {
   "cell_type": "code",
   "execution_count": 6,
   "id": "dd36a291-3b7c-4efb-815e-669f4c8c5c4a",
   "metadata": {},
   "outputs": [
    {
     "name": "stdout",
     "output_type": "stream",
     "text": [
      "Tensor(shape=[10, 3072], dtype=float64, place=Place(cpu), stop_gradient=True,\n",
      "       [[0.14509804, 0.23921569, 0.55686275, ..., 0.79607843, 0.79215686,\n",
      "         0.81176471],\n",
      "        [0.17254902, 0.25882353, 0.22745098, ..., 0.24705882, 0.18823529,\n",
      "         0.16470588],\n",
      "        [0.61960784, 0.47843137, 0.33333333, ..., 0.16078431, 0.15294118,\n",
      "         0.15686275],\n",
      "        ...,\n",
      "        [0.52941176, 0.53333333, 0.56078431, ..., 0.66274510, 0.62352941,\n",
      "         0.62745098],\n",
      "        [0.29019608, 0.27058824, 0.18039216, ..., 0.86666667, 0.85490196,\n",
      "         0.85882353],\n",
      "        [0.50588235, 0.50588235, 0.50196078, ..., 0.30980392, 0.30980392,\n",
      "         0.29411765]])\n",
      "Tensor(shape=[10], dtype=int32, place=Place(cpu), stop_gradient=True,\n",
      "       [1, 2, 1, 9, 1, 3, 8, 6, 1, 0])\n"
     ]
    }
   ],
   "source": [
    "train_loader=paddle.io.DataLoader(Reader(\"../data/cifar-10-batches-py/data_batch_1\"),batch_size=10,shuffle=True)\n",
    "for x,y in train_loader:\n",
    "    print(x)\n",
    "    print(y)\n",
    "    break"
   ]
  },
  {
   "cell_type": "code",
   "execution_count": null,
   "id": "d2d4e509-9bca-4c52-b09b-03860a8f9a4b",
   "metadata": {},
   "outputs": [],
   "source": []
  },
  {
   "cell_type": "code",
   "execution_count": 7,
   "id": "adf6af48-c9e0-4566-a319-edfd5dc980a0",
   "metadata": {},
   "outputs": [],
   "source": [
    "class MyDNN(paddle.nn.Layer):\n",
    "    def __init__(self):\n",
    "        super(MyDNN,self).__init__()\n",
    "        self.li=[paddle.nn.Linear(3072,1024),\n",
    "                paddle.nn.Linear(1024,512),\n",
    "                paddle.nn.Linear(512,128),\n",
    "                paddle.nn.Linear(128,10)]\n",
    "        self.ac=[paddle.nn.ReLU(),\n",
    "                paddle.nn.ReLU(),\n",
    "                paddle.nn.ReLU()]\n",
    "    def forward(self,x):\n",
    "        for i in range(len(self.ac)):\n",
    "            x=self.li[i](x)\n",
    "            x=self.ac[i](x)\n",
    "        x=self.li[-1](x)\n",
    "        return x"
   ]
  },
  {
   "cell_type": "code",
   "execution_count": 8,
   "id": "cd8a0879-dd31-40e4-8f64-b6e4b5c20c3e",
   "metadata": {},
   "outputs": [],
   "source": [
    "model=MyDNN()\n",
    "cross_entropy=paddle.nn.CrossEntropyLoss()\n",
    "opt=paddle.optimizer.SGD(0.001,model.parameters())"
   ]
  },
  {
   "cell_type": "code",
   "execution_count": 9,
   "id": "075f896f-5749-47cc-961b-e34262a6f7db",
   "metadata": {},
   "outputs": [
    {
     "name": "stdout",
     "output_type": "stream",
     "text": [
      "epoch 0 \tbatch 0 "
     ]
    },
    {
     "ename": "IndexError",
     "evalue": "list index out of range",
     "output_type": "error",
     "traceback": [
      "\u001b[1;31m---------------------------------------------------------------------------\u001b[0m",
      "\u001b[1;31mIndexError\u001b[0m                                Traceback (most recent call last)",
      "Cell \u001b[1;32mIn[9], line 17\u001b[0m\n\u001b[0;32m     14\u001b[0m loss \u001b[38;5;241m=\u001b[39m cross_entropy(y_pred,y)\n\u001b[0;32m     16\u001b[0m loss\u001b[38;5;241m.\u001b[39mbackward()\n\u001b[1;32m---> 17\u001b[0m \u001b[43mopt\u001b[49m\u001b[38;5;241;43m.\u001b[39;49m\u001b[43mstep\u001b[49m\u001b[43m(\u001b[49m\u001b[43m)\u001b[49m\n\u001b[0;32m     19\u001b[0m full_loss \u001b[38;5;241m+\u001b[39m\u001b[38;5;241m=\u001b[39m loss\u001b[38;5;241m.\u001b[39mnumpy()\n\u001b[0;32m     20\u001b[0m n_loss \u001b[38;5;241m+\u001b[39m\u001b[38;5;241m=\u001b[39m batch\n",
      "File \u001b[1;32mD:\\anaconda3\\envs\\cp310\\lib\\site-packages\\decorator.py:232\u001b[0m, in \u001b[0;36mdecorate.<locals>.fun\u001b[1;34m(*args, **kw)\u001b[0m\n\u001b[0;32m    230\u001b[0m \u001b[38;5;28;01mif\u001b[39;00m \u001b[38;5;129;01mnot\u001b[39;00m kwsyntax:\n\u001b[0;32m    231\u001b[0m     args, kw \u001b[38;5;241m=\u001b[39m fix(args, kw, sig)\n\u001b[1;32m--> 232\u001b[0m \u001b[38;5;28;01mreturn\u001b[39;00m caller(func, \u001b[38;5;241m*\u001b[39m(extras \u001b[38;5;241m+\u001b[39m args), \u001b[38;5;241m*\u001b[39m\u001b[38;5;241m*\u001b[39mkw)\n",
      "File \u001b[1;32mD:\\anaconda3\\envs\\cp310\\lib\\site-packages\\paddle\\base\\dygraph\\base.py:352\u001b[0m, in \u001b[0;36m_DecoratorContextManager.__call__.<locals>._decorate_function\u001b[1;34m(func, *args, **kwargs)\u001b[0m\n\u001b[0;32m    349\u001b[0m \u001b[38;5;129m@decorator\u001b[39m\u001b[38;5;241m.\u001b[39mdecorator\n\u001b[0;32m    350\u001b[0m \u001b[38;5;28;01mdef\u001b[39;00m \u001b[38;5;21m_decorate_function\u001b[39m(func, \u001b[38;5;241m*\u001b[39margs, \u001b[38;5;241m*\u001b[39m\u001b[38;5;241m*\u001b[39mkwargs):\n\u001b[0;32m    351\u001b[0m     \u001b[38;5;28;01mwith\u001b[39;00m \u001b[38;5;28mself\u001b[39m:\n\u001b[1;32m--> 352\u001b[0m         \u001b[38;5;28;01mreturn\u001b[39;00m func(\u001b[38;5;241m*\u001b[39margs, \u001b[38;5;241m*\u001b[39m\u001b[38;5;241m*\u001b[39mkwargs)\n",
      "File \u001b[1;32mD:\\anaconda3\\envs\\cp310\\lib\\site-packages\\decorator.py:232\u001b[0m, in \u001b[0;36mdecorate.<locals>.fun\u001b[1;34m(*args, **kw)\u001b[0m\n\u001b[0;32m    230\u001b[0m \u001b[38;5;28;01mif\u001b[39;00m \u001b[38;5;129;01mnot\u001b[39;00m kwsyntax:\n\u001b[0;32m    231\u001b[0m     args, kw \u001b[38;5;241m=\u001b[39m fix(args, kw, sig)\n\u001b[1;32m--> 232\u001b[0m \u001b[38;5;28;01mreturn\u001b[39;00m caller(func, \u001b[38;5;241m*\u001b[39m(extras \u001b[38;5;241m+\u001b[39m args), \u001b[38;5;241m*\u001b[39m\u001b[38;5;241m*\u001b[39mkw)\n",
      "File \u001b[1;32mD:\\anaconda3\\envs\\cp310\\lib\\site-packages\\paddle\\base\\wrapped_decorator.py:26\u001b[0m, in \u001b[0;36mwrap_decorator.<locals>.__impl__\u001b[1;34m(func, *args, **kwargs)\u001b[0m\n\u001b[0;32m     23\u001b[0m \u001b[38;5;129m@decorator\u001b[39m\u001b[38;5;241m.\u001b[39mdecorator\n\u001b[0;32m     24\u001b[0m \u001b[38;5;28;01mdef\u001b[39;00m \u001b[38;5;21m__impl__\u001b[39m(func, \u001b[38;5;241m*\u001b[39margs, \u001b[38;5;241m*\u001b[39m\u001b[38;5;241m*\u001b[39mkwargs):\n\u001b[0;32m     25\u001b[0m     wrapped_func \u001b[38;5;241m=\u001b[39m decorator_func(func)\n\u001b[1;32m---> 26\u001b[0m     \u001b[38;5;28;01mreturn\u001b[39;00m wrapped_func(\u001b[38;5;241m*\u001b[39margs, \u001b[38;5;241m*\u001b[39m\u001b[38;5;241m*\u001b[39mkwargs)\n",
      "File \u001b[1;32mD:\\anaconda3\\envs\\cp310\\lib\\site-packages\\paddle\\base\\framework.py:606\u001b[0m, in \u001b[0;36m_non_static_only_.<locals>.__impl__\u001b[1;34m(*args, **kwargs)\u001b[0m\n\u001b[0;32m    600\u001b[0m \u001b[38;5;28;01mfrom\u001b[39;00m \u001b[38;5;21;01m.\u001b[39;00m\u001b[38;5;21;01mdygraph\u001b[39;00m\u001b[38;5;21;01m.\u001b[39;00m\u001b[38;5;21;01mbase\u001b[39;00m \u001b[38;5;28;01mimport\u001b[39;00m in_to_static_mode\n\u001b[0;32m    602\u001b[0m \u001b[38;5;28;01massert\u001b[39;00m in_dygraph_mode() \u001b[38;5;129;01mor\u001b[39;00m in_to_static_mode(), (\n\u001b[0;32m    603\u001b[0m     \u001b[38;5;124m\"\u001b[39m\u001b[38;5;124mWe only support \u001b[39m\u001b[38;5;124m'\u001b[39m\u001b[38;5;132;01m%s\u001b[39;00m\u001b[38;5;124m()\u001b[39m\u001b[38;5;124m'\u001b[39m\u001b[38;5;124m in dynamic graph mode, please call \u001b[39m\u001b[38;5;124m'\u001b[39m\u001b[38;5;124mpaddle.disable_static()\u001b[39m\u001b[38;5;124m'\u001b[39m\u001b[38;5;124m to enter dynamic graph mode.\u001b[39m\u001b[38;5;124m\"\u001b[39m\n\u001b[0;32m    604\u001b[0m     \u001b[38;5;241m%\u001b[39m func\u001b[38;5;241m.\u001b[39m\u001b[38;5;18m__name__\u001b[39m\n\u001b[0;32m    605\u001b[0m )\n\u001b[1;32m--> 606\u001b[0m \u001b[38;5;28;01mreturn\u001b[39;00m func(\u001b[38;5;241m*\u001b[39margs, \u001b[38;5;241m*\u001b[39m\u001b[38;5;241m*\u001b[39mkwargs)\n",
      "File \u001b[1;32mD:\\anaconda3\\envs\\cp310\\lib\\site-packages\\paddle\\optimizer\\optimizer.py:1817\u001b[0m, in \u001b[0;36mOptimizer.step\u001b[1;34m(self)\u001b[0m\n\u001b[0;32m   1814\u001b[0m     \u001b[38;5;28mself\u001b[39m\u001b[38;5;241m.\u001b[39m_declarative_step()\n\u001b[0;32m   1815\u001b[0m     \u001b[38;5;28;01mreturn\u001b[39;00m\n\u001b[1;32m-> 1817\u001b[0m \u001b[38;5;28;01mif\u001b[39;00m \u001b[38;5;129;01mnot\u001b[39;00m \u001b[38;5;28misinstance\u001b[39m(\u001b[38;5;28;43mself\u001b[39;49m\u001b[38;5;241;43m.\u001b[39;49m\u001b[43m_param_groups\u001b[49m\u001b[43m[\u001b[49m\u001b[38;5;241;43m0\u001b[39;49m\u001b[43m]\u001b[49m, \u001b[38;5;28mdict\u001b[39m):\n\u001b[0;32m   1818\u001b[0m     params_grads \u001b[38;5;241m=\u001b[39m []\n\u001b[0;32m   1819\u001b[0m     \u001b[38;5;28;01mfor\u001b[39;00m param \u001b[38;5;129;01min\u001b[39;00m \u001b[38;5;28mself\u001b[39m\u001b[38;5;241m.\u001b[39m_param_groups:\n",
      "\u001b[1;31mIndexError\u001b[0m: list index out of range"
     ]
    }
   ],
   "source": [
    "model.train()\n",
    "epoch=3\n",
    "train_loader=paddle.io.DataLoader(Reader(\"../data/cifar-10-batches-py/data_batch_1\"),batch_size=10,shuffle=True)\n",
    "\n",
    "for e in range(epoch):\n",
    "    full_loss = 0\n",
    "    n_loss = 0\n",
    "    n_eval = 0\n",
    "    correct = 0\n",
    "    for i, (x, y) in enumerate(train_loader):\n",
    "        print(\"epoch\", e, \"\\tbatch\", i, end = \" \")\n",
    "        \n",
    "        y_pred = model(x)\n",
    "        loss = cross_entropy(y_pred,y)\n",
    "\n",
    "        loss.backward()\n",
    "        opt.step()\n",
    "\n",
    "        full_loss += loss.numpy()\n",
    "        n_loss += batch\n",
    "        opt.clear_grad()\n",
    "\n",
    "        np_output = np.array(output.data, copy=False)\n",
    "        mask = np_output.argmax(1) == y\n",
    "        correct += sum(mask)\n",
    "\n",
    "        print(\"\\tloss\", loss, \"\\tcorrect\", correct)\n",
    "    print(f\"Train Accuracy: {correct/n_loss}%\")\n",
    "    print(f\"Epoch: {epoch}, Loss: {full_loss / n_loss}\")"
   ]
  },
  {
   "cell_type": "code",
   "execution_count": null,
   "id": "cdfbdfc8-6336-460c-b4b9-260c2af9c44c",
   "metadata": {},
   "outputs": [],
   "source": []
  },
  {
   "cell_type": "code",
   "execution_count": null,
   "id": "82fc7717-864f-484a-a5d0-d80257674c5b",
   "metadata": {},
   "outputs": [],
   "source": []
  },
  {
   "cell_type": "code",
   "execution_count": null,
   "id": "28a42901-e180-41df-bb3b-9d06000cc71d",
   "metadata": {},
   "outputs": [],
   "source": []
  },
  {
   "cell_type": "code",
   "execution_count": null,
   "id": "7ea77ddf-d1b7-4d6e-aaee-e26bae6e4b3a",
   "metadata": {},
   "outputs": [],
   "source": []
  },
  {
   "cell_type": "code",
   "execution_count": null,
   "id": "fb1e884e-5b03-4571-833a-ca33c8d066f4",
   "metadata": {},
   "outputs": [],
   "source": []
  },
  {
   "cell_type": "code",
   "execution_count": null,
   "id": "a02ad24c-0328-4ab8-883d-ffc8e67fd543",
   "metadata": {},
   "outputs": [],
   "source": []
  },
  {
   "cell_type": "code",
   "execution_count": null,
   "id": "ca7314e5-2b1d-42e8-a6c3-d45a04ef8c70",
   "metadata": {},
   "outputs": [],
   "source": []
  },
  {
   "cell_type": "code",
   "execution_count": null,
   "id": "539d0b8a-e81f-4797-a8ec-debb457296ce",
   "metadata": {},
   "outputs": [],
   "source": []
  },
  {
   "cell_type": "code",
   "execution_count": null,
   "id": "458c4dc3-cb08-4900-8294-64e584a2c5f4",
   "metadata": {},
   "outputs": [],
   "source": []
  },
  {
   "cell_type": "code",
   "execution_count": null,
   "id": "19afcdf6-e7c0-4ff0-8e33-c88220005084",
   "metadata": {},
   "outputs": [],
   "source": []
  },
  {
   "cell_type": "code",
   "execution_count": null,
   "id": "27770fb9-dd6e-447d-889f-218435c5efbb",
   "metadata": {},
   "outputs": [],
   "source": []
  },
  {
   "cell_type": "code",
   "execution_count": null,
   "id": "44101264-7991-4cf5-9c9e-26ee9162212d",
   "metadata": {},
   "outputs": [],
   "source": []
  },
  {
   "cell_type": "code",
   "execution_count": null,
   "id": "6fab2888-fc7f-472c-bcd5-7c7a41096f9e",
   "metadata": {},
   "outputs": [],
   "source": []
  },
  {
   "cell_type": "code",
   "execution_count": null,
   "id": "44f7fc9b-7e66-49f2-ac58-ffa96860ceea",
   "metadata": {},
   "outputs": [],
   "source": []
  },
  {
   "cell_type": "code",
   "execution_count": null,
   "id": "d9974cb7-fecc-48c0-97af-749f71bcc35f",
   "metadata": {},
   "outputs": [],
   "source": []
  },
  {
   "cell_type": "code",
   "execution_count": null,
   "id": "1c7ec51e-ba76-44ad-b820-847fecc81d1a",
   "metadata": {},
   "outputs": [],
   "source": []
  },
  {
   "cell_type": "code",
   "execution_count": null,
   "id": "1eca1b47-1344-4a3e-a08a-a3daf798fb41",
   "metadata": {},
   "outputs": [],
   "source": []
  },
  {
   "cell_type": "code",
   "execution_count": null,
   "id": "4d9ec9d4-9bbb-4b42-a3d2-fee7183f0a7c",
   "metadata": {},
   "outputs": [],
   "source": []
  },
  {
   "cell_type": "code",
   "execution_count": null,
   "id": "20bb5525-017a-41ac-8689-44bd19f17f5e",
   "metadata": {},
   "outputs": [],
   "source": []
  },
  {
   "cell_type": "code",
   "execution_count": null,
   "id": "34c7bbaf-7bb0-4d6e-a2ec-a9cf5b7dd2d3",
   "metadata": {},
   "outputs": [],
   "source": []
  },
  {
   "cell_type": "code",
   "execution_count": null,
   "id": "2ca52b3d-948f-4b8e-bd4b-a5102fedac93",
   "metadata": {},
   "outputs": [],
   "source": []
  },
  {
   "cell_type": "code",
   "execution_count": null,
   "id": "393dd3fb-6dd1-4c71-8155-1b039c591c9e",
   "metadata": {},
   "outputs": [],
   "source": []
  }
 ],
 "metadata": {
  "kernelspec": {
   "display_name": "Python 3 (ipykernel)",
   "language": "python",
   "name": "python3"
  },
  "language_info": {
   "codemirror_mode": {
    "name": "ipython",
    "version": 3
   },
   "file_extension": ".py",
   "mimetype": "text/x-python",
   "name": "python",
   "nbconvert_exporter": "python",
   "pygments_lexer": "ipython3",
   "version": "3.10.12"
  }
 },
 "nbformat": 4,
 "nbformat_minor": 5
}
