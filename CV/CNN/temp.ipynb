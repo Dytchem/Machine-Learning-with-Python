{
 "cells": [
  {
   "cell_type": "code",
   "execution_count": 1,
   "id": "9a23938e-5db0-4018-8717-d458754d722e",
   "metadata": {},
   "outputs": [
    {
     "name": "stdout",
     "output_type": "stream",
     "text": [
      "gpu:0\n",
      "Running verify PaddlePaddle program ... \n",
      "PaddlePaddle works well on 1 GPU.\n",
      "PaddlePaddle is installed successfully! Let's start deep learning with PaddlePaddle now.\n"
     ]
    }
   ],
   "source": [
    "import paddle  \n",
    "paddle.set_device('gpu:0')  # 显式地设置使用GPU，如果有多个GPU，可以使用'gpu:0', 'gpu:1'等  \n",
    "print(paddle.device.get_device())  # 输出当前使用的设备（'cpu'或'gpu:x'）  \n",
    "paddle.utils.run_check()  # 运行一个简单的GPU测试来确保GPU可以正常工作"
   ]
  },
  {
   "cell_type": "code",
   "execution_count": null,
   "id": "e3b362f4-f892-465b-a725-2d8934a49a8e",
   "metadata": {},
   "outputs": [],
   "source": []
  }
 ],
 "metadata": {
  "kernelspec": {
   "display_name": "Python 3 (ipykernel)",
   "language": "python",
   "name": "python3"
  },
  "language_info": {
   "codemirror_mode": {
    "name": "ipython",
    "version": 3
   },
   "file_extension": ".py",
   "mimetype": "text/x-python",
   "name": "python",
   "nbconvert_exporter": "python",
   "pygments_lexer": "ipython3",
   "version": "3.10.12"
  }
 },
 "nbformat": 4,
 "nbformat_minor": 5
}
