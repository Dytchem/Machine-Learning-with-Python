{
 "cells": [
  {
   "cell_type": "code",
   "execution_count": 8,
   "id": "fc2e1572-5576-4135-a445-12ca58369032",
   "metadata": {},
   "outputs": [],
   "source": [
    "import os\n",
    "import random\n",
    "import pickle\n",
    "import paddle\n",
    "import numpy as np"
   ]
  },
  {
   "cell_type": "code",
   "execution_count": null,
   "id": "015c8f42-8f79-43cf-883d-94db5412099f",
   "metadata": {},
   "outputs": [],
   "source": []
  },
  {
   "cell_type": "code",
   "execution_count": 2,
   "id": "a7a43ed6-599f-4e9f-9524-d3d6fda2eb54",
   "metadata": {
    "scrolled": true
   },
   "outputs": [],
   "source": [
    "import cv2  \n",
    "import numpy as np  \n",
    "  \n",
    "# 读取图像，默认为BGR格式  \n",
    "image = cv2.imread('data/1_100.png')  \n"
   ]
  },
  {
   "cell_type": "code",
   "execution_count": 3,
   "id": "c850806f-cd11-4ce3-bc20-e8c45ded44a5",
   "metadata": {},
   "outputs": [
    {
     "data": {
      "text/plain": [
       "(120, 120, 3)"
      ]
     },
     "execution_count": 3,
     "metadata": {},
     "output_type": "execute_result"
    }
   ],
   "source": [
    "image.shape"
   ]
  },
  {
   "cell_type": "code",
   "execution_count": 4,
   "id": "4df9fc91-ef2e-4a9b-9d04-3154349aa095",
   "metadata": {},
   "outputs": [
    {
     "data": {
      "text/plain": [
       "(43200,)"
      ]
     },
     "execution_count": 4,
     "metadata": {},
     "output_type": "execute_result"
    }
   ],
   "source": [
    "image.reshape((-1,)).shape"
   ]
  },
  {
   "cell_type": "code",
   "execution_count": 5,
   "id": "f7c623e3-923b-4025-bac3-07d543ebf83f",
   "metadata": {},
   "outputs": [
    {
     "data": {
      "text/plain": [
       "('data', '1_41.png')"
      ]
     },
     "execution_count": 5,
     "metadata": {},
     "output_type": "execute_result"
    }
   ],
   "source": [
    "os.path.split(\"data/1_41.png\")"
   ]
  },
  {
   "cell_type": "code",
   "execution_count": 9,
   "id": "b45eb800-f73c-4f95-a043-1f4a95ac8183",
   "metadata": {},
   "outputs": [
    {
     "ename": "ValueError",
     "evalue": "(InvalidArgument) reshape(): argument 'x' (position 0) must be Tensor, but got numpy.ndarray (at ..\\paddle\\fluid\\pybind\\eager_utils.cc:1334)\n",
     "output_type": "error",
     "traceback": [
      "\u001b[1;31m---------------------------------------------------------------------------\u001b[0m",
      "\u001b[1;31mValueError\u001b[0m                                Traceback (most recent call last)",
      "Cell \u001b[1;32mIn[9], line 1\u001b[0m\n\u001b[1;32m----> 1\u001b[0m paddle\u001b[38;5;241m.\u001b[39mreshape(np\u001b[38;5;241m.\u001b[39marray([\u001b[38;5;241m1\u001b[39m,\u001b[38;5;241m2\u001b[39m,\u001b[38;5;241m3\u001b[39m]),shape\u001b[38;5;241m=\u001b[39m(\u001b[38;5;241m1\u001b[39m,\u001b[38;5;241m-\u001b[39m\u001b[38;5;241m1\u001b[39m))\n",
      "File \u001b[1;32mD:\\anaconda3\\Lib\\site-packages\\paddle\\tensor\\manipulation.py:3940\u001b[0m, in \u001b[0;36mreshape\u001b[1;34m(x, shape, name)\u001b[0m\n\u001b[0;32m   3938\u001b[0m         out \u001b[38;5;241m=\u001b[39m x\n\u001b[0;32m   3939\u001b[0m     \u001b[38;5;28;01melse\u001b[39;00m:\n\u001b[1;32m-> 3940\u001b[0m         out \u001b[38;5;241m=\u001b[39m _C_ops\u001b[38;5;241m.\u001b[39mreshape(x, new_shape)\n\u001b[0;32m   3941\u001b[0m \u001b[38;5;28;01melif\u001b[39;00m \u001b[38;5;28misinstance\u001b[39m(shape, core\u001b[38;5;241m.\u001b[39meager\u001b[38;5;241m.\u001b[39mTensor):\n\u001b[0;32m   3942\u001b[0m     shape\u001b[38;5;241m.\u001b[39mstop_gradient \u001b[38;5;241m=\u001b[39m \u001b[38;5;28;01mTrue\u001b[39;00m\n",
      "\u001b[1;31mValueError\u001b[0m: (InvalidArgument) reshape(): argument 'x' (position 0) must be Tensor, but got numpy.ndarray (at ..\\paddle\\fluid\\pybind\\eager_utils.cc:1334)\n"
     ]
    }
   ],
   "source": [
    "paddle.reshape(np.array([1,2,3]),shape=(1,-1))"
   ]
  },
  {
   "cell_type": "code",
   "execution_count": null,
   "id": "4e55e861-2207-4fcc-bffd-ac84e78c5081",
   "metadata": {},
   "outputs": [],
   "source": []
  },
  {
   "cell_type": "code",
   "execution_count": 10,
   "id": "bac68d52-c67a-4262-8c19-09e7fa9998bb",
   "metadata": {},
   "outputs": [
    {
     "data": {
      "text/plain": [
       "array([[0, 0, 0]])"
      ]
     },
     "execution_count": 10,
     "metadata": {},
     "output_type": "execute_result"
    }
   ],
   "source": [
    "np.zeros((1,3),dtype=\"int32\")"
   ]
  }
 ],
 "metadata": {
  "kernelspec": {
   "display_name": "Python 3 (ipykernel)",
   "language": "python",
   "name": "python3"
  },
  "language_info": {
   "codemirror_mode": {
    "name": "ipython",
    "version": 3
   },
   "file_extension": ".py",
   "mimetype": "text/x-python",
   "name": "python",
   "nbconvert_exporter": "python",
   "pygments_lexer": "ipython3",
   "version": "3.10.14"
  }
 },
 "nbformat": 4,
 "nbformat_minor": 5
}
