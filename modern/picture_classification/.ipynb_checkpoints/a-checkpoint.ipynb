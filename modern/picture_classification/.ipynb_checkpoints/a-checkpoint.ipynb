{
 "cells": [
  {
   "cell_type": "code",
   "execution_count": 1,
   "id": "e5a2694c-fcf7-4ad2-8b7c-c9f292700e20",
   "metadata": {},
   "outputs": [],
   "source": [
    "import os\n",
    "import paddle\n",
    "from paddle.io import Dataset\n",
    "import numpy as np\n",
    "import matplotlib.pyplot as plt\n",
    "paddle.set_default_dtype(\"float64\")"
   ]
  },
  {
   "cell_type": "code",
   "execution_count": 2,
   "id": "6e7a7ab5-35c3-44e2-9357-956e5d00afa8",
   "metadata": {},
   "outputs": [],
   "source": [
    "from Picture import *"
   ]
  },
  {
   "cell_type": "code",
   "execution_count": 3,
   "id": "156a6748-3175-441e-8a5a-5800639ee708",
   "metadata": {},
   "outputs": [],
   "source": [
    "#参数\n",
    "label_dict={\"0\":\"汽车\",\"1\":\"摩托车\",\"2\":\"货车\"}\n",
    "data_src=\"data/\"\n",
    "train_folder=\"work/train/\"\n",
    "eval_folder=\"work/eval/\"\n",
    "batch=10\n",
    "epoch=10\n",
    "learning_rate=0.001\n",
    "show_step=10"
   ]
  },
  {
   "cell_type": "code",
   "execution_count": null,
   "id": "15b71cf7-1fd1-4a3f-8f3f-221b92763a89",
   "metadata": {},
   "outputs": [],
   "source": []
  },
  {
   "cell_type": "code",
   "execution_count": 4,
   "id": "bd0110b6-49aa-4f66-b386-b38040fd8e34",
   "metadata": {},
   "outputs": [],
   "source": [
    "class dataset(Dataset):\n",
    "    def __init__(self,mode=\"train\"):\n",
    "        super().__init__()\n",
    "        if mode==\"train\":\n",
    "            self.folder=train_folder\n",
    "        else:\n",
    "            self.folder=eval_folder\n",
    "        self.dir=os.listdir(self.folder)\n",
    "        self.len=len(self.dir)\n",
    "    def __getitem__(self,index):\n",
    "        p=Picture.load(os.path.join(self.folder,self.dir[index]))\n",
    "        return p.data,p.label\n",
    "    def __len__(self):\n",
    "        return self.len"
   ]
  },
  {
   "cell_type": "code",
   "execution_count": null,
   "id": "3fabac92-488a-4ffe-aa52-84f5626a16e3",
   "metadata": {},
   "outputs": [],
   "source": []
  },
  {
   "cell_type": "code",
   "execution_count": 5,
   "id": "35fcfe30-963b-4983-b3f6-3d51a3cd192d",
   "metadata": {},
   "outputs": [],
   "source": [
    "train_loader=paddle.io.DataLoader(dataset(\"train\"),batch_size=batch,shuffle=True)\n",
    "eval_loader=paddle.io.DataLoader(dataset(\"eval\"),batch_size=batch,shuffle=True)"
   ]
  },
  {
   "cell_type": "code",
   "execution_count": 6,
   "id": "e37c080d-7c7a-4839-a2b1-2741d7b4ef13",
   "metadata": {},
   "outputs": [
    {
     "name": "stdout",
     "output_type": "stream",
     "text": [
      "Tensor(shape=[100, 43200], dtype=float64, place=Place(cpu), stop_gradient=True,\n",
      "       [[0.69411765, 0.76078431, 0.70980392, ..., 0.49803922, 0.50196078,\n",
      "         0.55686275],\n",
      "        [1.        , 1.        , 1.        , ..., 1.        , 1.        ,\n",
      "         1.        ],\n",
      "        [0.85098039, 0.85098039, 0.85098039, ..., 0.82745098, 0.85490196,\n",
      "         0.83529412],\n",
      "        ...,\n",
      "        [0.90588235, 0.90588235, 0.90588235, ..., 0.69019608, 0.69019608,\n",
      "         0.69019608],\n",
      "        [0.85098039, 0.85098039, 0.85098039, ..., 0.23921569, 0.23921569,\n",
      "         0.23921569],\n",
      "        [0.53333333, 0.57254902, 0.48235294, ..., 0.52156863, 0.45490196,\n",
      "         0.44313725]])\n"
     ]
    }
   ],
   "source": [
    "for _,data in enumerate(train_loader()):\n",
    "    print(data[0])\n",
    "    break;"
   ]
  },
  {
   "cell_type": "code",
   "execution_count": null,
   "id": "82438d38-8272-4ff1-9cc3-781afcd6f377",
   "metadata": {},
   "outputs": [],
   "source": []
  },
  {
   "cell_type": "code",
   "execution_count": 7,
   "id": "4244f065-0c65-4004-8fa1-97657764de0b",
   "metadata": {},
   "outputs": [],
   "source": [
    "class MyDNN(paddle.nn.Layer):  \n",
    "    def __init__(self):  \n",
    "        super(MyDNN,self).__init__()  \n",
    "        self.li = paddle.nn.LayerList([  \n",
    "            paddle.nn.Linear(in_features=3*120*120, out_features=4096),  \n",
    "            paddle.nn.Linear(in_features=4096, out_features=2048),  \n",
    "            paddle.nn.Linear(in_features=2048, out_features=1024),  \n",
    "            paddle.nn.Linear(in_features=1024, out_features=512),  \n",
    "            paddle.nn.Linear(in_features=512, out_features=3)  \n",
    "        ])  \n",
    "        self.ac = paddle.nn.LayerList([  \n",
    "            paddle.nn.ReLU(),  \n",
    "            paddle.nn.ReLU(),  \n",
    "            paddle.nn.ReLU(),  \n",
    "            paddle.nn.ReLU()  \n",
    "        ])\n",
    "  \n",
    "    def forward(self, x):  \n",
    "        for i in range(len(self.li) - 1):\n",
    "            x = self.li[i](x)  \n",
    "            x = self.ac[i](x)  \n",
    "        x = self.li[-1](x)  \n",
    "        return x"
   ]
  },
  {
   "cell_type": "code",
   "execution_count": null,
   "id": "2af004b1-b208-4450-88dd-c867d881edb2",
   "metadata": {},
   "outputs": [],
   "source": []
  },
  {
   "cell_type": "code",
   "execution_count": 8,
   "id": "266c81b9-1cfe-4d13-a336-5d2c8b039d92",
   "metadata": {},
   "outputs": [
    {
     "name": "stdout",
     "output_type": "stream",
     "text": [
      "Epoch 0, Step 1, Loss: 1.060612718798739\n",
      "Epoch 0, Step 2, Loss: 35.03462260800733\n",
      "Epoch 0, Step 3, Loss: 36.48\n",
      "Epoch 0, Step 4, Loss: 12.474606672791605\n",
      "Epoch 0, Step 5, Loss: 34.506610776443175\n",
      "Epoch 0, Step 6, Loss: 37.94305802733294\n",
      "Epoch 0, Step 7, Loss: 28.543304333378114\n",
      "Epoch 0, Step 8, Loss: 9.787073712871592\n",
      "Epoch 0, Step 9, Loss: 16.66333439835876\n",
      "Epoch 0, Step 10, Loss: 10.702890026674135\n",
      "Epoch 0, Step 11, Loss: 4.091788594693536\n",
      "Epoch 0, Step 12, Loss: 7.517769894730054\n",
      "Epoch 0, Step 13, Loss: 7.983923510445735\n",
      "Epoch 0, Step 14, Loss: 9.417113434965948\n",
      "Epoch 0, Step 15, Loss: 6.493581331791066\n",
      "Epoch 1, Step 1, Loss: 8.484884975102341\n",
      "Epoch 1, Step 2, Loss: 7.733001331792196\n",
      "Epoch 1, Step 3, Loss: 7.030199095359506\n",
      "Epoch 1, Step 4, Loss: 1.6834659909908647\n",
      "Epoch 1, Step 5, Loss: 2.269738444182434\n",
      "Epoch 1, Step 6, Loss: 2.3711052395352987\n",
      "Epoch 1, Step 7, Loss: 1.896941696025732\n",
      "Epoch 1, Step 8, Loss: 2.203891767852858\n",
      "Epoch 1, Step 9, Loss: 1.0502809547153966\n",
      "Epoch 1, Step 10, Loss: 2.076355034359929\n",
      "Epoch 1, Step 11, Loss: 1.5830195562349496\n",
      "Epoch 1, Step 12, Loss: 1.1086913599340806\n",
      "Epoch 1, Step 13, Loss: 1.742606954886184\n",
      "Epoch 1, Step 14, Loss: 1.1459261304153152\n",
      "Epoch 1, Step 15, Loss: 1.0060700527947741\n"
     ]
    }
   ],
   "source": [
    "model=MyDNN()\n",
    "model.train()\n",
    "ce=paddle.nn.CrossEntropyLoss(soft_label=True)\n",
    "op=paddle.optimizer.Adam(learning_rate=learning_rate,parameters=model.parameters())\n",
    "\n",
    "for i in range(epoch):\n",
    "    j=0\n",
    "    for data in train_loader():\n",
    "        pred=model(data[0])\n",
    "        loss=ce(pred,data[1])\n",
    "        loss.backward()\n",
    "        op.step();\n",
    "        op.clear_grad()\n",
    "        j+=1\n",
    "        if (j%show_step==0):\n",
    "            print(f\"Epoch {i}, Step {j}, Loss: {loss.numpy()}\")  "
   ]
  },
  {
   "cell_type": "code",
   "execution_count": 9,
   "id": "d78da783-815c-404d-a752-bd39359fcac1",
   "metadata": {},
   "outputs": [],
   "source": [
    "paddle.save(model.state_dict(),\"a\")"
   ]
  }
 ],
 "metadata": {
  "kernelspec": {
   "display_name": "Python 3 (ipykernel)",
   "language": "python",
   "name": "python3"
  },
  "language_info": {
   "codemirror_mode": {
    "name": "ipython",
    "version": 3
   },
   "file_extension": ".py",
   "mimetype": "text/x-python",
   "name": "python",
   "nbconvert_exporter": "python",
   "pygments_lexer": "ipython3",
   "version": "3.11.9"
  }
 },
 "nbformat": 4,
 "nbformat_minor": 5
}
