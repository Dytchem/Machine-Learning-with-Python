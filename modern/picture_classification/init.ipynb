{
 "cells": [
  {
   "cell_type": "code",
   "execution_count": 1,
   "id": "6cc48504-78b1-4582-8323-4a61cf63633d",
   "metadata": {},
   "outputs": [],
   "source": [
    "import os\n",
    "import random\n",
    "import pickle\n",
    "import cv2\n",
    "from Picture import *"
   ]
  },
  {
   "cell_type": "code",
   "execution_count": 2,
   "id": "0844411c-3507-4d56-b0ba-9f579f8027c0",
   "metadata": {},
   "outputs": [],
   "source": [
    "L = os.listdir(\"data\")\n",
    "random.shuffle(L)\n",
    "for i, v in enumerate(L):\n",
    "    src=os.path.join(\"data/\"+v)\n",
    "    if i % 10 == 0:\n",
    "        Picture(src).save(\"work/eval\")\n",
    "    else:\n",
    "        Picture(src).save(\"work/train\")"
   ]
  },
  {
   "cell_type": "code",
   "execution_count": null,
   "id": "63f8b68a-2afe-4793-9acc-bacf510d5d3f",
   "metadata": {},
   "outputs": [],
   "source": []
  },
  {
   "cell_type": "code",
   "execution_count": null,
   "id": "baa55c10-9242-468e-ae91-81aa20bf2892",
   "metadata": {},
   "outputs": [],
   "source": []
  },
  {
   "cell_type": "code",
   "execution_count": null,
   "id": "5c56e387-cd2d-4651-aa65-98ed9ae222a1",
   "metadata": {},
   "outputs": [],
   "source": []
  },
  {
   "cell_type": "code",
   "execution_count": null,
   "id": "02a0fd8f-c47f-4a09-a528-3d3eed7d4b0a",
   "metadata": {},
   "outputs": [],
   "source": []
  },
  {
   "cell_type": "code",
   "execution_count": null,
   "id": "aa197c15-d533-4fef-ba72-27db23deedcd",
   "metadata": {},
   "outputs": [],
   "source": []
  },
  {
   "cell_type": "code",
   "execution_count": 3,
   "id": "4ff8203d-ce3f-4d75-8e8d-e5512ea2afdf",
   "metadata": {},
   "outputs": [],
   "source": [
    "p=Picture(\"data/1_41.png\")"
   ]
  },
  {
   "cell_type": "code",
   "execution_count": 4,
   "id": "a29bb61b-60d3-4867-b016-a33018787afd",
   "metadata": {},
   "outputs": [
    {
     "data": {
      "text/plain": [
       "0.396078431372549"
      ]
     },
     "execution_count": 4,
     "metadata": {},
     "output_type": "execute_result"
    }
   ],
   "source": [
    "p.data[0]"
   ]
  },
  {
   "cell_type": "code",
   "execution_count": 5,
   "id": "9e40dc95-f613-4d86-8581-9b218210ce20",
   "metadata": {},
   "outputs": [
    {
     "data": {
      "text/plain": [
       "'1_41'"
      ]
     },
     "execution_count": 5,
     "metadata": {},
     "output_type": "execute_result"
    }
   ],
   "source": [
    "p.id"
   ]
  },
  {
   "cell_type": "code",
   "execution_count": 6,
   "id": "dab3f9f8-b1de-4b96-9c66-babb3cacc851",
   "metadata": {},
   "outputs": [],
   "source": [
    "p.save(\"work\")"
   ]
  },
  {
   "cell_type": "code",
   "execution_count": 7,
   "id": "d8405dac-a96b-47f6-9e3b-4fdd58db7b17",
   "metadata": {},
   "outputs": [],
   "source": [
    "q=Picture.load(\"work/1_41\")"
   ]
  },
  {
   "cell_type": "code",
   "execution_count": 8,
   "id": "19468b9f-240d-4a66-b714-ee092b2b05d3",
   "metadata": {},
   "outputs": [
    {
     "data": {
      "text/plain": [
       "0.396078431372549"
      ]
     },
     "execution_count": 8,
     "metadata": {},
     "output_type": "execute_result"
    }
   ],
   "source": [
    "q.data[0]"
   ]
  },
  {
   "cell_type": "code",
   "execution_count": 9,
   "id": "d88042d2-aa5e-4cf2-a96d-a9a9fe1a6548",
   "metadata": {},
   "outputs": [
    {
     "data": {
      "text/plain": [
       "array([1., 0., 0.])"
      ]
     },
     "execution_count": 9,
     "metadata": {},
     "output_type": "execute_result"
    }
   ],
   "source": [
    "q.label"
   ]
  },
  {
   "cell_type": "code",
   "execution_count": 10,
   "id": "2818cae0-fad4-40ad-bc18-c205bb9752a9",
   "metadata": {},
   "outputs": [
    {
     "data": {
      "text/plain": [
       "(43200,)"
      ]
     },
     "execution_count": 10,
     "metadata": {},
     "output_type": "execute_result"
    }
   ],
   "source": [
    "q.data.shape"
   ]
  }
 ],
 "metadata": {
  "kernelspec": {
   "display_name": "Python 3 (ipykernel)",
   "language": "python",
   "name": "python3"
  },
  "language_info": {
   "codemirror_mode": {
    "name": "ipython",
    "version": 3
   },
   "file_extension": ".py",
   "mimetype": "text/x-python",
   "name": "python",
   "nbconvert_exporter": "python",
   "pygments_lexer": "ipython3",
   "version": "3.10.14"
  }
 },
 "nbformat": 4,
 "nbformat_minor": 5
}
