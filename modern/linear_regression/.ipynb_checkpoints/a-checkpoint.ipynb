{
 "cells": [
  {
   "cell_type": "code",
   "execution_count": 1,
   "id": "18a34486-1ede-4ae8-b6e6-531ccbdad291",
   "metadata": {},
   "outputs": [],
   "source": [
    "import numpy as np\n",
    "import matplotlib.pyplot as plt\n",
    "import paddle\n",
    "paddle.set_default_dtype(\"float64\")"
   ]
  },
  {
   "cell_type": "code",
   "execution_count": 2,
   "id": "408c56c9-0ad6-410a-a631-e5b6886c2fd7",
   "metadata": {},
   "outputs": [],
   "source": [
    "class RandomDataset(paddle.io.Dataset):\n",
    "    def __init__(self,L,b,n,s):\n",
    "        self.train_data=np.random.rand(n,len(L))\n",
    "        self.M=np.array(L).T\n",
    "        self.train_label=(self.train_data@self.M+b+np.random.rand(n)*s).reshape(-1,1)\n",
    "    def __getitem__(self,idx):\n",
    "        return self.train_data[idx],self.train_label[idx]\n",
    "    def __len__(self):\n",
    "        return len(self.train_label)"
   ]
  },
  {
   "cell_type": "code",
   "execution_count": 3,
   "id": "2d3130b5-0cee-4485-a980-c41d85dd8fd8",
   "metadata": {},
   "outputs": [],
   "source": [
    "L=[0,1,2,3,4,5,6,7,8,9]\n",
    "b=10\n",
    "n=10000\n",
    "s=1\n",
    "batch_size=10\n",
    "iterations=100\n",
    "\n",
    "rd=RandomDataset(L,b,n,s)\n",
    "train_loader=paddle.io.DataLoader(rd,batch_size=batch_size)"
   ]
  },
  {
   "cell_type": "code",
   "execution_count": 4,
   "id": "6800d5f5-9026-4198-be57-68b98cf62b4d",
   "metadata": {},
   "outputs": [],
   "source": [
    "class Regressor(paddle.nn.Layer):\n",
    "    def __init__(self,n):\n",
    "        super(Regressor,self).__init__()\n",
    "        self.li=paddle.nn.Linear(n,1,None)\n",
    "    def forward(self,inputs):\n",
    "        return self.li(inputs)\n",
    "\n",
    "model=Regressor(len(L))\n",
    "mse_loss=paddle.nn.MSELoss()\n",
    "opt=paddle.optimizer.SGD(learning_rate=0.0005, parameters=model.parameters())\n",
    "#opt=paddle.optimizer.Adam(learning_rate=0.0005, parameters=model.parameters())\n",
    "#opt=paddle.optimizer.Lamb(learning_rate=0.0005, parameters=model.parameters())\n",
    "#opt=paddle.optimizer.Momentum(learning_rate=0.0005, parameters=model.parameters())"
   ]
  },
  {
   "cell_type": "code",
   "execution_count": 5,
   "id": "b2e80fef-8b08-46ba-895c-da86f5940e96",
   "metadata": {},
   "outputs": [
    {
     "name": "stdout",
     "output_type": "stream",
     "text": [
      "0 29.313025986073136\n",
      "1 27.120674574009183\n",
      "2 25.53569824227522\n",
      "3 24.11583838744568\n",
      "4 22.853575277396768\n",
      "5 21.72971615683692\n",
      "6 20.7273292109843\n",
      "7 19.831734105630478\n",
      "8 19.030191242321003\n",
      "9 18.311629247273206\n",
      "10 17.666412003869254\n",
      "11 17.08613951198556\n",
      "12 16.56347755713765\n",
      "13 16.092011922170297\n",
      "14 15.666123514259567\n",
      "15 15.280881323461537\n",
      "16 14.931950590497348\n",
      "17 14.61551395332646\n",
      "18 14.32820367487002\n",
      "19 14.067043336937635\n",
      "20 13.829397625574293\n",
      "21 13.612929037103106\n",
      "22 13.415560507558364\n",
      "23 13.235443115606689\n",
      "24 13.070928134372346\n",
      "25 12.920542814149645\n",
      "26 12.782969368624313\n",
      "27 12.657026714342319\n",
      "28 12.54165457879298\n",
      "29 12.43589964833802\n",
      "30 12.338903474795563\n",
      "31 12.249891900012216\n",
      "32 12.168165792294815\n",
      "33 12.09309291801594\n",
      "34 12.024100796820795\n",
      "35 11.960670410291263\n",
      "36 11.902330652219897\n",
      "37 11.84865342427416\n",
      "38 11.799249294188709\n",
      "39 11.7537636450507\n",
      "40 11.711873254018105\n",
      "41 11.673283247187895\n",
      "42 11.637724384508015\n",
      "43 11.604950634784803\n",
      "44 11.574737006124945\n",
      "45 11.546877601693534\n",
      "46 11.521183874580128\n",
      "47 11.49748305892821\n",
      "48 11.47561675738738\n",
      "49 11.455439667449529\n",
      "50 11.436818431397143\n",
      "51 11.419630596461673\n",
      "52 11.403763673414243\n",
      "53 11.389114283217566\n",
      "54 11.37558738259151\n",
      "55 11.363095560408237\n",
      "56 11.351558397761726\n",
      "57 11.340901885364682\n",
      "58 11.331057892635531\n",
      "59 11.321963683456254\n",
      "60 11.313561474128262\n",
      "61 11.305798029529495\n",
      "62 11.298624293898808\n",
      "63 11.291995053043618\n",
      "64 11.285868625096063\n",
      "65 11.28020657723253\n",
      "66 11.274973466030081\n",
      "67 11.27013659936107\n",
      "68 11.265665817931513\n",
      "69 11.26153329475086\n",
      "70 11.257713350981764\n",
      "71 11.254182286764987\n",
      "72 11.250918225743789\n",
      "73 11.247900972128736\n",
      "74 11.245111879249498\n",
      "75 11.242533728633857\n",
      "76 11.240150618740326\n",
      "77 11.237947862546473\n",
      "78 11.235911893265786\n",
      "79 11.23403017752781\n",
      "80 11.232291135413998\n",
      "81 11.230684066793717\n",
      "82 11.229199083450828\n",
      "83 11.227827046535324\n",
      "84 11.22655950891245\n",
      "85 11.225388662018162\n",
      "86 11.224307286860881\n",
      "87 11.223308708840417\n",
      "88 11.22238675608127\n",
      "89 11.221535721001548\n",
      "90 11.220750324863067\n",
      "91 11.220025685066776\n",
      "92 11.219357284978182\n",
      "93 11.218740946083857\n",
      "94 11.218172802296728\n",
      "95 11.21764927624155\n",
      "96 11.217167057366199\n",
      "97 11.216723081736182\n",
      "98 11.21631451338141\n",
      "99 11.215938727074278\n"
     ]
    }
   ],
   "source": [
    "model.train()\n",
    "for i in range(iterations):\n",
    "    loss=0\n",
    "    for data,label in train_loader:\n",
    "        pred=model(data)\n",
    "        loss=mse_loss(pred,label)\n",
    "        loss.backward()\n",
    "        opt.step()\n",
    "        opt.clear_grad()\n",
    "    print(i,loss.numpy())"
   ]
  },
  {
   "cell_type": "code",
   "execution_count": 6,
   "id": "1a0ca711-a45c-4cc7-ab2e-1baaf1c1161d",
   "metadata": {},
   "outputs": [
    {
     "data": {
      "text/plain": [
       "[Parameter containing:\n",
       " Tensor(shape=[10, 1], dtype=float64, place=Place(cpu), stop_gradient=False,\n",
       "        [[0.07149189],\n",
       "         [1.11192371],\n",
       "         [2.03056506],\n",
       "         [2.99292279],\n",
       "         [3.94298826],\n",
       "         [5.07377205],\n",
       "         [6.04043082],\n",
       "         [6.96669347],\n",
       "         [8.18727954],\n",
       "         [9.17691686]]),\n",
       " Parameter containing:\n",
       " Tensor(shape=[1], dtype=float64, place=Place(cpu), stop_gradient=False,\n",
       "        [14.70463459])]"
      ]
     },
     "execution_count": 6,
     "metadata": {},
     "output_type": "execute_result"
    }
   ],
   "source": [
    "model.parameters()"
   ]
  },
  {
   "cell_type": "code",
   "execution_count": 7,
   "id": "ec38d892-40f8-4f76-92f7-30b6741ee647",
   "metadata": {},
   "outputs": [],
   "source": [
    "paddle.save(model.state_dict(),\"a\")"
   ]
  },
  {
   "cell_type": "code",
   "execution_count": 8,
   "id": "c60c9762-8b7a-4e41-97d8-82c4506ba21e",
   "metadata": {},
   "outputs": [],
   "source": [
    "model1=Regressor(len(L))\n",
    "model1.set_state_dict(paddle.load(\"a\"))\n",
    "model1.eval()\n",
    "eval_loader=paddle.io.DataLoader(RandomDataset(L,b,n,s),batch_size=batch_size)"
   ]
  },
  {
   "cell_type": "code",
   "execution_count": 9,
   "id": "ec610bd6-3094-4f19-ba83-1eb8fd7eecee",
   "metadata": {},
   "outputs": [
    {
     "name": "stdout",
     "output_type": "stream",
     "text": [
      "\n",
      "MSE = 8.308954696676992\n"
     ]
    }
   ],
   "source": [
    "Loss=[]\n",
    "for data,label in eval_loader:\n",
    "    pred=model1(data)\n",
    "    Loss.append(mse_loss(pred,label).numpy())\n",
    "    #print(pred.numpy()[0],label.numpy()[0])\n",
    "    #print(Loss[-1])\n",
    "print(f\"\\nMSE = {np.mean(Loss)}\")"
   ]
  }
 ],
 "metadata": {
  "kernelspec": {
   "display_name": "Python 3 (ipykernel)",
   "language": "python",
   "name": "python3"
  },
  "language_info": {
   "codemirror_mode": {
    "name": "ipython",
    "version": 3
   },
   "file_extension": ".py",
   "mimetype": "text/x-python",
   "name": "python",
   "nbconvert_exporter": "python",
   "pygments_lexer": "ipython3",
   "version": "3.11.9"
  }
 },
 "nbformat": 4,
 "nbformat_minor": 5
}
