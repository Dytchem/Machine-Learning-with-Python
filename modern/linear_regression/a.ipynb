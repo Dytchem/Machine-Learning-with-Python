{
 "cells": [
  {
   "cell_type": "code",
   "execution_count": 1,
   "id": "18a34486-1ede-4ae8-b6e6-531ccbdad291",
   "metadata": {},
   "outputs": [],
   "source": [
    "import numpy as np\n",
    "import matplotlib.pyplot as plt\n",
    "import paddle\n",
    "paddle.set_default_dtype(\"float64\")"
   ]
  },
  {
   "cell_type": "code",
   "execution_count": 2,
   "id": "408c56c9-0ad6-410a-a631-e5b6886c2fd7",
   "metadata": {},
   "outputs": [],
   "source": [
    "class RandomDataset(paddle.io.Dataset):\n",
    "    def __init__(self,L,b,n,s):\n",
    "        self.train_data=np.random.rand(n,len(L))\n",
    "        self.M=np.array(L).T\n",
    "        self.train_label=(self.train_data@self.M+b+np.random.rand(n)*s).reshape(-1,1)\n",
    "    def __getitem__(self,idx):\n",
    "        return self.train_data[idx],self.train_label[idx]\n",
    "    def __len__(self):\n",
    "        return len(self.train_label)"
   ]
  },
  {
   "cell_type": "code",
   "execution_count": 3,
   "id": "2d3130b5-0cee-4485-a980-c41d85dd8fd8",
   "metadata": {},
   "outputs": [],
   "source": [
    "L=[0,1,2,3,4,5,6,7,8,9]\n",
    "b=10\n",
    "n=10000\n",
    "s=1\n",
    "batch_size=10\n",
    "iterations=100\n",
    "\n",
    "rd=RandomDataset(L,b,n,s)\n",
    "train_loader=paddle.io.DataLoader(rd,batch_size=batch_size)"
   ]
  },
  {
   "cell_type": "code",
   "execution_count": 4,
   "id": "6800d5f5-9026-4198-be57-68b98cf62b4d",
   "metadata": {},
   "outputs": [],
   "source": [
    "class Regressor(paddle.nn.Layer):\n",
    "    def __init__(self,n):\n",
    "        super(Regressor,self).__init__()\n",
    "        self.li=paddle.nn.Linear(n,1,None)\n",
    "    def forward(self,inputs):\n",
    "        return self.li(inputs)\n",
    "\n",
    "model=Regressor(len(L))\n",
    "mse_loss=paddle.nn.MSELoss()\n",
    "opt=paddle.optimizer.SGD(learning_rate=0.0005, parameters=model.parameters())\n",
    "#opt=paddle.optimizer.Adam(learning_rate=0.0005, parameters=model.parameters())\n",
    "#opt=paddle.optimizer.Lamb(learning_rate=0.0005, parameters=model.parameters())\n",
    "#opt=paddle.optimizer.Momentum(learning_rate=0.0005, parameters=model.parameters())"
   ]
  },
  {
   "cell_type": "code",
   "execution_count": 5,
   "id": "b2e80fef-8b08-46ba-895c-da86f5940e96",
   "metadata": {},
   "outputs": [
    {
     "name": "stdout",
     "output_type": "stream",
     "text": [
      "0 9.508655643505131\n",
      "1 5.481207177039447\n",
      "2 4.692515694245772\n",
      "3 4.068389815926629\n",
      "4 3.5345415453071345\n",
      "5 3.0764649762445466\n",
      "6 2.6830773563787647\n",
      "7 2.344971004304464\n",
      "8 2.0541302894075315\n",
      "9 1.8037228805283327\n",
      "10 1.5879231925559285\n",
      "11 1.4017623607299825\n",
      "12 1.2410007231530769\n",
      "13 1.1020194202663334\n",
      "14 0.9817282327839537\n",
      "15 0.877487214211729\n",
      "16 0.7870400429474527\n",
      "17 0.708457332050566\n",
      "18 0.6400884005239382\n",
      "19 0.580520235534424\n",
      "20 0.5285425664956837\n",
      "21 0.48311813450229113\n",
      "22 0.443357378618244\n",
      "23 0.408496877698474\n",
      "24 0.37788098591173197\n",
      "25 0.3509461846096087\n",
      "26 0.32720774492316035\n",
      "27 0.3062483563862828\n",
      "28 0.2877084286221871\n",
      "29 0.27127781707183535\n",
      "30 0.2566887610673471\n",
      "31 0.24370985425939323\n",
      "32 0.23214089434384663\n",
      "33 0.22180848191749453\n",
      "34 0.21256225773858373\n",
      "35 0.2042716841922812\n",
      "36 0.19682329080525746\n",
      "37 0.19011831559018488\n",
      "38 0.1840706841489075\n",
      "39 0.17860527708968332\n",
      "40 0.17365644364977248\n",
      "41 0.1691667256534261\n",
      "42 0.16508576124116225\n",
      "43 0.16136934232057581\n",
      "44 0.15797860352923285\n",
      "45 0.15487932376918884\n",
      "46 0.15204132415423485\n",
      "47 0.1494379485796929\n",
      "48 0.14704561514152623\n",
      "49 0.14484342834908115\n",
      "50 0.14281284353965473\n",
      "51 0.14093737614995927\n",
      "52 0.1392023495630112\n",
      "53 0.13759467615528595\n",
      "54 0.1361026669422063\n",
      "55 0.13471586588002696\n",
      "56 0.13342490544504124\n",
      "57 0.13222138059211422\n",
      "58 0.13109773860519514\n",
      "59 0.13004718270361257\n",
      "60 0.12906358756792183\n",
      "61 0.12814142520623592\n",
      "62 0.1272756998010357\n",
      "63 0.1264618903654205\n",
      "64 0.1256959001982854\n",
      "65 0.12497401226671652\n",
      "66 0.12429284976182013\n",
      "67 0.12364934117690818\n",
      "68 0.12304068934335768\n",
      "69 0.12246434393545598\n",
      "70 0.12191797701993848\n",
      "71 0.12139946128152512\n",
      "72 0.12090685060384247\n",
      "73 0.1204383627266771\n",
      "74 0.11999236373606523\n",
      "75 0.11956735417457345\n",
      "76 0.11916195658606905\n",
      "77 0.11877490433239157\n",
      "78 0.11840503153908961\n",
      "79 0.11805126404531989\n",
      "80 0.11771261124762755\n",
      "81 0.11738815874098416\n",
      "82 0.1170770616714512\n",
      "83 0.1167785387251957\n",
      "84 0.11649186668726394\n",
      "85 0.11621637551093049\n",
      "86 0.11595144384539817\n",
      "87 0.11569649497549298\n",
      "88 0.11545099313167724\n",
      "89 0.11521444013416178\n",
      "90 0.11498637233776132\n",
      "91 0.11476635784859987\n",
      "92 0.11455399398630642\n",
      "93 0.11434890496835179\n",
      "94 0.11415073979547237\n",
      "95 0.1139591703193971\n",
      "96 0.11377388947591371\n",
      "97 0.113594609668033\n",
      "98 0.11342106128559584\n",
      "99 0.11325299134889406\n"
     ]
    }
   ],
   "source": [
    "model.train()\n",
    "for i in range(iterations):\n",
    "    loss=0\n",
    "    for data,label in train_loader:\n",
    "        pred=model(data)\n",
    "        loss=mse_loss(pred,label)\n",
    "        loss.backward()\n",
    "        opt.step()\n",
    "        opt.clear_grad()\n",
    "    print(i,loss.numpy())"
   ]
  },
  {
   "cell_type": "code",
   "execution_count": 6,
   "id": "1a0ca711-a45c-4cc7-ab2e-1baaf1c1161d",
   "metadata": {},
   "outputs": [
    {
     "data": {
      "text/plain": [
       "[Parameter containing:\n",
       " Tensor(shape=[10, 1], dtype=float64, place=Place(cpu), stop_gradient=False,\n",
       "        [[0.02335404],\n",
       "         [1.02622977],\n",
       "         [2.02421172],\n",
       "         [3.01754129],\n",
       "         [4.01619847],\n",
       "         [5.01962098],\n",
       "         [6.03175358],\n",
       "         [7.02045699],\n",
       "         [8.03595942],\n",
       "         [9.02049585]]),\n",
       " Parameter containing:\n",
       " Tensor(shape=[1], dtype=float64, place=Place(cpu), stop_gradient=False,\n",
       "        [10.37411993])]"
      ]
     },
     "execution_count": 6,
     "metadata": {},
     "output_type": "execute_result"
    }
   ],
   "source": [
    "model.parameters()"
   ]
  },
  {
   "cell_type": "code",
   "execution_count": 7,
   "id": "ec38d892-40f8-4f76-92f7-30b6741ee647",
   "metadata": {},
   "outputs": [],
   "source": [
    "paddle.save(model.state_dict(),\"a\")"
   ]
  },
  {
   "cell_type": "code",
   "execution_count": 8,
   "id": "c60c9762-8b7a-4e41-97d8-82c4506ba21e",
   "metadata": {},
   "outputs": [],
   "source": [
    "model1=Regressor(len(L))\n",
    "model1.set_state_dict(paddle.load(\"a\"))\n",
    "model1.eval()\n",
    "eval_loader=paddle.io.DataLoader(RandomDataset(L,b,n,s),batch_size=batch_size)"
   ]
  },
  {
   "cell_type": "code",
   "execution_count": 9,
   "id": "ec610bd6-3094-4f19-ba83-1eb8fd7eecee",
   "metadata": {},
   "outputs": [
    {
     "name": "stdout",
     "output_type": "stream",
     "text": [
      "\n",
      "MSE = 0.08386316538597068\n"
     ]
    }
   ],
   "source": [
    "Loss=[]\n",
    "for data,label in eval_loader:\n",
    "    pred=model1(data)\n",
    "    Loss.append(mse_loss(pred,label).numpy())\n",
    "    #print(pred.numpy()[0],label.numpy()[0])\n",
    "    #print(Loss[-1])\n",
    "print(f\"\\nMSE = {np.mean(Loss)}\")"
   ]
  }
 ],
 "metadata": {
  "kernelspec": {
   "display_name": "Python 3 (ipykernel)",
   "language": "python",
   "name": "python3"
  },
  "language_info": {
   "codemirror_mode": {
    "name": "ipython",
    "version": 3
   },
   "file_extension": ".py",
   "mimetype": "text/x-python",
   "name": "python",
   "nbconvert_exporter": "python",
   "pygments_lexer": "ipython3",
   "version": "3.10.12"
  }
 },
 "nbformat": 4,
 "nbformat_minor": 5
}
