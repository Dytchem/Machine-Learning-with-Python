{
 "cells": [
  {
   "cell_type": "code",
   "execution_count": 2,
   "id": "16d8af5f-d683-460a-af78-9ccfc298c420",
   "metadata": {
    "editable": false,
    "slideshow": {
     "slide_type": ""
    },
    "tags": []
   },
   "outputs": [],
   "source": [
    "from crawler.mooc.getAnswer import *"
   ]
  },
  {
   "cell_type": "code",
   "execution_count": 3,
   "id": "1ccb2fd8-d007-46db-97ab-ddcc6a108dd9",
   "metadata": {
    "editable": true,
    "slideshow": {
     "slide_type": ""
    },
    "tags": []
   },
   "outputs": [
    {
     "name": "stdout",
     "output_type": "stream",
     "text": [
      "1 :\t _ _ C _ \n",
      "2 :\t A _ _ _ \n",
      "3 :\t A _ _ _ \n",
      "4 :\t _ B _ _ \n",
      "5 :\t _ B _ _ \n",
      "6 :\t _ _ _ D \n",
      "7 :\t _ _ _ D \n",
      "8 :\t _ _ _ D \n",
      "9 :\t A _ _ _ \n",
      "10 :\t A _ _ _ \n",
      "11 :\t _ _ _ D \n",
      "12 :\t A B _ D \n",
      "13 :\t A _ C D \n",
      "14 :\t A B C D \n",
      "15 :\t A B C D \n",
      "16 :\t A B _ D \n",
      "17 :\t A B C D \n",
      "18 :\t A B C _ \n",
      "19 :\t A B C _ \n",
      "20 :\t A B C D \n"
     ]
    }
   ],
   "source": [
    "getAnswer(3074664675)"
   ]
  }
 ],
 "metadata": {
  "kernelspec": {
   "display_name": "Python 3 (ipykernel)",
   "language": "python",
   "name": "python3"
  },
  "language_info": {
   "codemirror_mode": {
    "name": "ipython",
    "version": 3
   },
   "file_extension": ".py",
   "mimetype": "text/x-python",
   "name": "python",
   "nbconvert_exporter": "python",
   "pygments_lexer": "ipython3",
   "version": "3.11.9"
  }
 },
 "nbformat": 4,
 "nbformat_minor": 5
}
