{
 "cells": [
  {
   "cell_type": "code",
   "execution_count": 4,
   "id": "16d8af5f-d683-460a-af78-9ccfc298c420",
   "metadata": {},
   "outputs": [],
   "source": [
    "from crawler.mooc.getAnswer import *"
   ]
  },
  {
   "cell_type": "code",
   "execution_count": 5,
   "id": "1ccb2fd8-d007-46db-97ab-ddcc6a108dd9",
   "metadata": {},
   "outputs": [
    {
     "name": "stdout",
     "output_type": "stream",
     "text": [
      "1 :\t _ _ _ D \n",
      "2 :\t _ _ _ D \n",
      "3 :\t A _ _ _ \n",
      "4 :\t _ B _ _ \n",
      "5 :\t _ _ C _ \n",
      "6 :\t _ _ _ D \n",
      "7 :\t _ _ C _ \n",
      "8 :\t _ B _ _ \n",
      "9 :\t A B _ _ \n",
      "10 :\t _ B C D \n",
      "11 :\t A _ _ D \n",
      "12 :\t A B _ D \n",
      "13 :\t A B _ D \n"
     ]
    }
   ],
   "source": [
    "getAnswer(3072379718)"
   ]
  }
 ],
 "metadata": {
  "kernelspec": {
   "display_name": "Python 3 (ipykernel)",
   "language": "python",
   "name": "python3"
  },
  "language_info": {
   "codemirror_mode": {
    "name": "ipython",
    "version": 3
   },
   "file_extension": ".py",
   "mimetype": "text/x-python",
   "name": "python",
   "nbconvert_exporter": "python",
   "pygments_lexer": "ipython3",
   "version": "3.11.9"
  }
 },
 "nbformat": 4,
 "nbformat_minor": 5
}
