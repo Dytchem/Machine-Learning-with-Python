{
 "cells": [
  {
   "cell_type": "code",
   "execution_count": 21,
   "id": "5da76256-2dfe-49ea-b29b-a662a5476cd3",
   "metadata": {},
   "outputs": [],
   "source": [
    "# import paddle.fluid as fluid\n",
    "import paddle\n",
    "import numpy as np\n",
    "import os\n",
    "import matplotlib.pyplot as plt"
   ]
  },
  {
   "cell_type": "code",
   "execution_count": 4,
   "id": "681b86d4-dc9f-4ff8-8cdb-e06e8da2240c",
   "metadata": {},
   "outputs": [
    {
     "name": "stdout",
     "output_type": "stream",
     "text": [
      "Running verify PaddlePaddle program ... \n",
      "PaddlePaddle works well on 1 CPU.\n",
      "PaddlePaddle is installed successfully! Let's start deep learning with PaddlePaddle now.\n"
     ]
    }
   ],
   "source": [
    "paddle.utils.run_check()"
   ]
  },
  {
   "cell_type": "code",
   "execution_count": 6,
   "id": "0a9b2c42-71c0-458d-ad95-c02bd72c5dfc",
   "metadata": {},
   "outputs": [
    {
     "data": {
      "text/plain": [
       "<function paddle.dataset.uci_housing.train.<locals>.reader()>"
      ]
     },
     "execution_count": 6,
     "metadata": {},
     "output_type": "execute_result"
    }
   ],
   "source": [
    "paddle.dataset.uci_housing.train()"
   ]
  },
  {
   "cell_type": "code",
   "execution_count": 7,
   "id": "afa8021a-e865-42c3-addc-3a1cb520e756",
   "metadata": {},
   "outputs": [
    {
     "name": "stdout",
     "output_type": "stream",
     "text": [
      "下载并加载训练数据\n",
      "加载完成\n"
     ]
    }
   ],
   "source": [
    "#设置默认的全局dtype为float64\n",
    "paddle.set_default_dtype(\"float64\")\n",
    "#下载数据\n",
    "print('下载并加载训练数据')\n",
    "train_dataset = paddle.text.datasets.UCIHousing(mode='train')\n",
    "eval_dataset = paddle.text.datasets.UCIHousing(mode='test')\n",
    "train_loader = paddle.io.DataLoader(train_dataset, batch_size=32, shuffle=True)\n",
    "eval_loader = paddle.io.DataLoader(eval_dataset, batch_size = 8, shuffle=False)\n",
    "\n",
    "print('加载完成')"
   ]
  },
  {
   "cell_type": "code",
   "execution_count": 128,
   "id": "b2c201ef-bdaa-4dc2-af3e-0c2095a056c5",
   "metadata": {},
   "outputs": [
    {
     "data": {
      "text/plain": [
       "array([-0.0405441 ,  0.06636364, -0.32356227, -0.06916996, -0.03435197,\n",
       "        0.05563625, -0.03475696,  0.02682186, -0.37171335, -0.21419304,\n",
       "       -0.33569506,  0.10143217, -0.21172912, 24.        ])"
      ]
     },
     "execution_count": 128,
     "metadata": {},
     "output_type": "execute_result"
    }
   ],
   "source": [
    "train_dataset.data[0]"
   ]
  },
  {
   "cell_type": "code",
   "execution_count": 129,
   "id": "328cd7c9-aa33-4d34-b69e-33e270501b57",
   "metadata": {},
   "outputs": [
    {
     "data": {
      "text/plain": [
       "(array([-0.0405441 ,  0.06636364, -0.32356227, -0.06916996, -0.03435197,\n",
       "         0.05563625, -0.03475696,  0.02682186, -0.37171335, -0.21419304,\n",
       "        -0.33569506,  0.10143217, -0.21172912]),\n",
       " array([24.]))"
      ]
     },
     "execution_count": 129,
     "metadata": {},
     "output_type": "execute_result"
    }
   ],
   "source": [
    "train_dataset[0]"
   ]
  },
  {
   "cell_type": "code",
   "execution_count": 23,
   "id": "aba7b4ff-be6d-4929-ba6c-8b866e13ac9d",
   "metadata": {},
   "outputs": [],
   "source": [
    "class R(paddle.nn.Layer):\n",
    "    def __init__(self):\n",
    "        super(R,self).__init__()\n",
    "        self.li=paddle.nn.Linear(13,1,None)\n",
    "    def forward(self,inputs):\n",
    "        return self.li(inputs)"
   ]
  },
  {
   "cell_type": "code",
   "execution_count": 20,
   "id": "7a26379b-ac72-483f-b824-10b5ecf8d12e",
   "metadata": {},
   "outputs": [],
   "source": [
    "Batch=0\n",
    "Batchs=[]\n",
    "all_train_accs=[]\n",
    "def draw_train_acc(Batchs, train_accs):\n",
    "    title=\"training accs\"\n",
    "    plt.title(title, fontsize=24)\n",
    "    plt.xlabel(\"batch\", fontsize=14)\n",
    "    plt.ylabel(\"acc\", fontsize=14)\n",
    "    plt.plot(Batchs, train_accs, color='green', label='training accs')\n",
    "    plt.legend()\n",
    "    plt.grid()\n",
    "    plt.show()\n",
    "\n",
    "all_train_loss=[]\n",
    "def draw_train_loss(Batchs, train_loss):\n",
    "    title=\"training loss\"\n",
    "    plt.title(title, fontsize=24)\n",
    "    plt.xlabel(\"batch\", fontsize=14)\n",
    "    plt.ylabel(\"loss\", fontsize=14)\n",
    "    plt.plot(Batchs, train_loss, color='red', label='training loss')\n",
    "    plt.legend()\n",
    "    plt.grid()\n",
    "    plt.show()"
   ]
  },
  {
   "cell_type": "code",
   "execution_count": 110,
   "id": "569a982d-32de-4ad6-8b1e-ca6aa8494d56",
   "metadata": {},
   "outputs": [],
   "source": [
    "model=R() # 模型实例化\n",
    "model.train() # 训练模式\n",
    "mse_loss = paddle.nn.MSELoss()\n",
    "opt=paddle.optimizer.SGD(learning_rate=0.0005, parameters=model.parameters())"
   ]
  },
  {
   "cell_type": "code",
   "execution_count": 122,
   "id": "0867fc18-e244-4311-b54f-b68d440d7a46",
   "metadata": {},
   "outputs": [],
   "source": [
    "model.train()\n",
    "for _ in range(100):\n",
    "    for i,data in enumerate(train_loader):\n",
    "        pred=model(data[0])\n",
    "        loss=mse_loss(pred,data[1])\n",
    "        loss.backward()\n",
    "        opt.step()\n",
    "        opt.clear_grad()"
   ]
  },
  {
   "cell_type": "code",
   "execution_count": 118,
   "id": "b7e80a35-b610-4bfb-bc0b-aec956bccab5",
   "metadata": {},
   "outputs": [
    {
     "data": {
      "text/plain": [
       "[Parameter containing:\n",
       " Tensor(shape=[13, 1], dtype=float64, place=Place(cpu), stop_gradient=False,\n",
       "        [[-0.53826329],\n",
       "         [ 1.52406932],\n",
       "         [-2.03951685],\n",
       "         [ 1.86732021],\n",
       "         [-2.15065151],\n",
       "         [ 3.68561169],\n",
       "         [-1.99898438],\n",
       "         [ 0.45627942],\n",
       "         [-3.00464846],\n",
       "         [-2.83157585],\n",
       "         [-3.62130116],\n",
       "         [ 1.92316096],\n",
       "         [-3.68497106]]),\n",
       " Parameter containing:\n",
       " Tensor(shape=[1], dtype=float64, place=Place(cpu), stop_gradient=False,\n",
       "        [22.29476972])]"
      ]
     },
     "execution_count": 118,
     "metadata": {},
     "output_type": "execute_result"
    }
   ],
   "source": [
    "model.parameters()"
   ]
  },
  {
   "cell_type": "code",
   "execution_count": 123,
   "id": "68c712c6-0853-475c-bf77-5873811ed10d",
   "metadata": {},
   "outputs": [
    {
     "name": "stdout",
     "output_type": "stream",
     "text": [
      "[13.47636115] [8.5]\n",
      "[10.03986805] [17.9]\n",
      "[16.32427969] [16.7]\n",
      "[14.43038117] [11.]\n",
      "[14.3615688] [9.6]\n",
      "[13.77670142] [10.8]\n",
      "[16.34974118] [16.1]\n",
      "[16.30016596] [16.4]\n",
      "[16.53250635] [19.1]\n",
      "[16.77943955] [16.7]\n",
      "[17.84635223] [20.6]\n",
      "[18.12524311] [20.1]\n",
      "[21.71820731] [16.8]\n"
     ]
    }
   ],
   "source": [
    "model.eval()\n",
    "for i,data in enumerate(eval_loader):\n",
    "    pred=model(data[0])\n",
    "    print(pred.numpy()[0],data[1].numpy()[0])"
   ]
  }
 ],
 "metadata": {
  "kernelspec": {
   "display_name": "Python 3 (ipykernel)",
   "language": "python",
   "name": "python3"
  },
  "language_info": {
   "codemirror_mode": {
    "name": "ipython",
    "version": 3
   },
   "file_extension": ".py",
   "mimetype": "text/x-python",
   "name": "python",
   "nbconvert_exporter": "python",
   "pygments_lexer": "ipython3",
   "version": "3.11.9"
  }
 },
 "nbformat": 4,
 "nbformat_minor": 5
}
